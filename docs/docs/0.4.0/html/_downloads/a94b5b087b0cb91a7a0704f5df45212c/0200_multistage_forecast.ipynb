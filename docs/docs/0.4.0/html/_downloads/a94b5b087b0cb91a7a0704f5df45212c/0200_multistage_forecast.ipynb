{
  "cells": [
    {
      "cell_type": "code",
      "execution_count": null,
      "metadata": {
        "collapsed": false
      },
      "outputs": [],
      "source": [
        "%matplotlib inline"
      ]
    },
    {
      "cell_type": "markdown",
      "metadata": {},
      "source": [
        "\n# The Multistage Forecast Model\n\nThis is a tutorial for the Multistage Forecast model.\nMultistage Forecast is a fast solution designed for more granular time series\n(for example, minute-level), where a long history is needed to train a good model.\n\nFor example, suppose we want to train a model on 2 years of 5-minute frequency data.\nThat's 210,240 observations.\nIf we directly fit a model to large input data,\ntraining time and resource demand can be high (15+ minutes on i9 CPU).\nIf we use a shorter period to train the model,\nthe model will not be able to capture long term effects\nsuch as holidays, monthly/quarterly seasonalities, year-end drops, etc.\nThere is a trade-off between speed and accuracy.\n\nOn the other hand, if due to data retention policy,\nwe only have data in the original frequency for a short history,\nbut we have aggregated data for a longer history,\ncould we utilize both datasets to make the prediction more accurate?\n\nMultistage Forecast is designed to close this gap.\nIt's easy to observe the following facts:\n\n    - Trend can be learned with data at a weekly/daily granularity.\n    - Yearly seasonality, weekly seasonality and holiday effects can be learned with daily data.\n    - Daily seasonality and autoregression effects can be learned with most recent data if the forecast horizon\n      is small (which is usually the case in minute-level data).\n\nThen it's natural to think of the idea: not all components in the forecast model need\nto be learned from minute-level granularity. Training each component with the least granularity data needed\ncan greatly save time while keeping the desired accuracy.\n\nHere we introduce the Multistage Forecast algorithm, which is built upon the idea above:\n\n    - Multistage Forecast trains multiple models to fit a time series.\n    - Each stage of the model trains on the residuals of the previous stages,\n      takes an appropriate length of data, does an optional aggregation,\n      and learns the appropriate components for the granularity.\n    - The final predictions will be the sum of the predictions from all stages of models.\n\nIn practice, we\u2019ve found Multistage Forecast to reduce training time by up to 10X while maintaining accuracy,\ncompared to a Silverkite model trained on the full dataset.\n\nA diagram of the Multistage Forecast model flow is shown below.\n\n<img src=\"file://figures/multistage_forecast.png\" width=\"600\" alt=\"Multistage Forecast training flow\">\n\nNext, we will see examples of how to configure Multistage Forecast models.\n"
      ]
    },
    {
      "cell_type": "code",
      "execution_count": null,
      "metadata": {
        "collapsed": false
      },
      "outputs": [],
      "source": [
        "# import libraries\nimport plotly\nfrom greykite.framework.templates.forecaster import Forecaster\nfrom greykite.framework.templates.autogen.forecast_config import ForecastConfig,\\\n    MetadataParam, ModelComponentsParam, EvaluationPeriodParam\nfrom greykite.framework.templates.model_templates import ModelTemplateEnum\nfrom greykite.framework.benchmark.data_loader_ts import DataLoaderTS\nfrom greykite.algo.forecast.silverkite.forecast_simple_silverkite_helper import cols_interact\nfrom greykite.framework.templates.multistage_forecast_template_config import MultistageForecastTemplateConfig"
      ]
    },
    {
      "cell_type": "markdown",
      "metadata": {},
      "source": [
        "## Configuring the Multistage Forecast model\n\nWe take an hourly dataset as an example.\nWe will use the hourly Washington D.C. bikesharing dataset\n(`source <https://www.capitalbikeshare.com/system-data>`_).\n\n"
      ]
    },
    {
      "cell_type": "code",
      "execution_count": null,
      "metadata": {
        "collapsed": false
      },
      "outputs": [],
      "source": [
        "# loads the dataset\nts = DataLoaderTS().load_bikesharing_ts()\nprint(ts.df.head())\n\n# plot the data\nplotly.io.show(ts.plot())"
      ]
    },
    {
      "cell_type": "markdown",
      "metadata": {},
      "source": [
        "The data contains a few years of hourly data.\nDirectly training on the entire dataset may take a couple of minutes.\nNow let's consider a two-stage model with the following configuration:\n\n  - **Daily model**: a model trained on 2 years of data with daily aggregation.\n    The model will learn the trend, yearly seasonality, weekly seasonality and holidays.\n    For an explanation of the configuration below, see the `paper <https://arxiv.org/abs/2105.01098>`_.\n  - **Hourly model**: a model trained on the residuals to learn short term patterns.\n    The model will learn daily seasonality, its interaction with the ``is_weekend`` indicator,\n    and some autoregression effects.\n\nFrom :doc:`/gallery/tutorials/0100_forecast_tutorial` we know how to specify\neach single model above. The core configuration is specified via\n`~greykite.framework.templates.autogen.forecast_config.ModelComponentsParam`.\nWe can specify the two models as follows.\n\n"
      ]
    },
    {
      "cell_type": "code",
      "execution_count": null,
      "metadata": {
        "collapsed": false
      },
      "outputs": [],
      "source": [
        "# the daily model\ndaily_model_components = ModelComponentsParam(\n    growth=dict(\n        growth_term=\"linear\"\n    ),\n    seasonality=dict(\n        yearly_seasonality=12,\n        quarterly_seasonality=0,\n        monthly_seasonality=0,\n        weekly_seasonality=5,\n        daily_seasonality=0  # daily model does not have daily seasonality\n    ),\n    changepoints=dict(\n        changepoints_dict=dict(\n            method=\"auto\",\n            regularization_strength=0.5,\n            yearly_seasonality_order=12,\n            resample_freq=\"3D\",\n            potential_changepoint_distance=\"30D\",\n            no_changepoint_distance_from_end=\"30D\"\n        ),\n        seasonality_changepoints_dict=None\n    ),\n    autoregression=dict(\n        autoreg_dict=\"auto\"\n    ),\n    events=dict(\n        holidays_to_model_separately=[\"Christmas Day\", \"New Year's Day\", \"Independence Day\", \"Thanksgiving\"],\n        holiday_lookup_countries=[\"UnitedStates\"],\n        holiday_pre_num_days=1,\n        holiday_post_num_days=1\n    ),\n    custom=dict(\n        fit_algorithm_dict=dict(\n            fit_algorithm=\"ridge\"\n        ),\n        feature_sets_enabled=\"auto\",\n        min_admissible_value=0\n    )\n)\n\n# creates daily seasonality interaction with is_weekend\ndaily_interaction = cols_interact(\n    static_col=\"is_weekend\",\n    fs_name=\"tod_daily\",\n    fs_order=5\n)\n\n# the hourly model\nhourly_model_components = ModelComponentsParam(\n    growth=dict(\n        growth_term=None  # growth is already modeled in daily model\n    ),\n    seasonality=dict(\n        yearly_seasonality=0,\n        quarterly_seasonality=0,\n        monthly_seasonality=0,\n        weekly_seasonality=0,\n        daily_seasonality=12  # hourly model has daily seasonality\n    ),\n    changepoints=dict(\n        changepoints_dict=None,\n        seasonality_changepoints_dict=None\n    ),\n    events=dict(\n        holidays_to_model_separately=None,\n        holiday_lookup_countries=[],\n        holiday_pre_num_days=0,\n        holiday_post_num_days=0\n    ),\n    autoregression=dict(\n      autoreg_dict=\"auto\"\n    ),\n    custom=dict(\n        fit_algorithm_dict=dict(\n            fit_algorithm=\"ridge\"\n        ),\n        feature_sets_enabled=\"auto\",\n        extra_pred_cols=daily_interaction\n    )\n)"
      ]
    },
    {
      "cell_type": "markdown",
      "metadata": {},
      "source": [
        "Now to use Multistage Forecast,\njust like specifying the model components of the Simple Silverkite model,\nwe need to specify the model components for Multistage Forecast.\nThe Multistage Forecast configuration is specified via\n``ModelComponentsParam.custom[\"multistage_forecast_configs\"]``,\nwhich takes a list of\n`~greykite.framework.templates.multistage_forecast_template_config.MultistageForecastTemplateConfig`\nobjects, each of which represents a stage of the model.\n\nThe ``MultistageForecastTemplateConfig`` object for a single stage takes the following parameters:\n\n  - ``train_length``: the length of training data, for example ``\"365D\"``.\n    Looks back from the end of the training data and takes observations up to this limit.\n  - ``fit_length``: the length of data where fitted values are calculated.\n    Even if the training data is not the entire period, the fitted values can still be calculated\n    on the entire period. The default will be the same as the training length.\n  - ``agg_freq``: the aggregation frequency in string representation.\n    For example, \"D\", \"H\", etc. If not specified, the original frequency will be kept.\n  - ``agg_func``: the aggregation function name, default is ``\"nanmean\"``.\n  - ``model_template``: the model template name. This together with the ``model_components`` below\n    specify the full model, just as when using the Simple Silverkite model.\n  - ``model_components``: the model components. This together with the ``model_template`` above\n    specify the full model for a stage, just as when using the Simple Silverkite model.\n\n``MultistageForecastTemplateConfig`` represents the flow of each stage of the model:\ntaking the time series / residual,\ntaking the appropriate length of training data, doing an optional aggregation,\nthen training the model with the given parameters.\nNow let's define the ``MultistageForecastTemplateConfig`` object one by one.\n\n"
      ]
    },
    {
      "cell_type": "code",
      "execution_count": null,
      "metadata": {
        "collapsed": false
      },
      "outputs": [],
      "source": [
        "# the daily model\ndaily_config = MultistageForecastTemplateConfig(\n    train_length=\"730D\",                               # use 2 years of data to train\n    fit_length=None,                                   # fit on the same period as training\n    agg_func=\"nanmean\",                                # aggregation function is nanmean\n    agg_freq=\"D\",                                      # aggregation frequency is daily\n    model_template=ModelTemplateEnum.SILVERKITE.name,  # the model template\n    model_components=daily_model_components            # the daily model components specified above\n)\n\n# the hourly model\nhourly_config = MultistageForecastTemplateConfig(\n    train_length=\"30D\",                                # use 30 days data to train\n    fit_length=None,                                   # fit on the same period as training\n    agg_func=\"nanmean\",                                # aggregation function is nanmean\n    agg_freq=None,                                     # None means no aggregation\n    model_template=ModelTemplateEnum.SILVERKITE.name,  # the model template\n    model_components=hourly_model_components           # the daily model components specified above\n)"
      ]
    },
    {
      "cell_type": "markdown",
      "metadata": {},
      "source": [
        "The configurations simply go to ``ModelComponentsParam.custom[\"multistage_forecast_configs\"]``\nas a list. We can specify the model components for Multistage Forecast as below.\nNote that all keys other than ``\"custom\"`` and ``\"uncertainty\"`` will be ignored.\n\n"
      ]
    },
    {
      "cell_type": "code",
      "execution_count": null,
      "metadata": {
        "collapsed": false
      },
      "outputs": [],
      "source": [
        "model_components = ModelComponentsParam(\n    custom=dict(\n        multistage_forecast_configs=[daily_config, hourly_config]\n    ),\n    uncertainty=dict()\n)"
      ]
    },
    {
      "cell_type": "markdown",
      "metadata": {},
      "source": [
        "Now we can fill in other parameters needed by\n`~greykite.framework.templates.autogen.forecast_config.ForecastConfig`.\n\n"
      ]
    },
    {
      "cell_type": "code",
      "execution_count": null,
      "metadata": {
        "collapsed": false
      },
      "outputs": [],
      "source": [
        "# metadata\nmetadata = MetadataParam(\n    time_col=\"ts\",\n    value_col=\"y\",\n    freq=\"H\"  # the frequency should match the original data frequency\n)\n\n# evaluation period\nevaluation_period = EvaluationPeriodParam(\n    cv_max_splits=0,  # turn off cv for speeding up\n    test_horizon=0,  # turn off test for speeding up\n)\n\n# forecast config\nconfig = ForecastConfig(\n    model_template=ModelTemplateEnum.MULTISTAGE_EMPTY.name,\n    forecast_horizon=24,  # forecast 1 day ahead\n    coverage=0.95,  # prediction interval is supported\n    metadata_param=metadata,\n    model_components_param=model_components,\n    evaluation_period_param=evaluation_period\n)\nforecaster = Forecaster()\nforecast_result = forecaster.run_forecast_config(\n    df=ts.df,\n    config=config\n)\n\nprint(forecast_result.forecast.df_test.head())\n\n# plot the predictions\nfig = forecast_result.forecast.plot()\n# interactive plot, click to zoom in\nplotly.io.show(fig)"
      ]
    },
    {
      "cell_type": "markdown",
      "metadata": {},
      "source": [
        "This model is 3X times faster than training with Silverkite on the entire hourly data\n(23.5 seconds vs 79.4 seconds).\nIf speed is a concern due to high frequency data with long history,\nMultistage Forecast is worth trying.\n\n<div class=\"alert alert-info\"><h4>Note</h4><p>The order of specifying the ``MultistageForecastTemplateConfig`` objects\n  does not matter. The models will be automatically sorted with respect to\n  ``train_length`` from long to short. This is to ensure that we have enough\n  residuals from the previous model when we fit the next model.</p></div>\n\n<div class=\"alert alert-info\"><h4>Note</h4><p>The estimator expects different stage models to have different aggregation\n  frequencies. If two stages have the same aggregation frequency, an error will\n  be raised.</p></div>\n\n<div class=\"alert alert-info\"><h4>Note</h4><p>Since the models in each stage may not fit on the entire training data,\n  there could be periods at the beginning of the training period where\n  fitted values are not calculated.\n  These NA fitted values are ignored when computing evaluation metrics on the training set.</p></div>\n\n## The uncertainty configuration\n\nIf you would like to include the uncertainty intervals,\nyou can specify the ``\"uncertainty\"`` parameter in model components.\n\nThe ``\"uncertainty\"`` key in ``ModelComponentsParam`` takes one key:\n``\"uncertainty_dict\"``, which is a dictionary taking the following keys:\n\n  - ``\"uncertainty_method\"``: a string representing the uncertainty method,\n    for example, ``\"simple_conditional_residuals\"``.\n  - ``\"params\"``: a dictionary of additional parameter needed by the uncertainty method.\n\nNow let's specify a configuration of uncertainty method via the\n``uncertainty_dict`` parameter on the ``\"simple_conditional_residuals\"`` model.\n\n"
      ]
    },
    {
      "cell_type": "code",
      "execution_count": null,
      "metadata": {
        "collapsed": false
      },
      "outputs": [],
      "source": [
        "# specifies the ``uncertainty`` parameter\nuncertainty = dict(\n    uncertainty_dict=dict(\n        uncertainty_method=\"simple_conditional_residuals\",\n        params=dict(\n            conditional_cols=[\"dow\"]  # conditioning on day of week\n        )\n    )\n)\n\n# adds to the ``ModelComponentsParam``\nmodel_components = ModelComponentsParam(\n    custom=dict(\n        multistage_forecast_configs=[daily_config, hourly_config]\n    ),\n    uncertainty=uncertainty\n)"
      ]
    },
    {
      "cell_type": "markdown",
      "metadata": {},
      "source": [
        "## The Multistage Forecast Model templates\n\nIn the example above we have seen an model template named\n``MULTISTAGE_EMPTY``. The template is an empty template\nthat must be used with specified model components.\nAny model components (``multistage_forecast_configs``) specified\nwill be exactly the model parameters to be used.\n:doc:`/gallery/templates/0100_template_overview` explains how model templates\nwork and how they are overridden by model components.\n\nThe Multistage Forecast model also comes with the following model template:\n\n  - ``SILVERKITE_TWO_STAGE``: a two-stage model similar to the model we present above.\n    The first stage is a daily model trained on 56 * 7 days of data learning the long term effects\n    including yearly/quarterly/monthly/weekly seasonality, holidays, etc. The second stage is\n    a short term model in the original data frequency learning the daily seasonality\n    and autoregression effects. Both stages' ``model_templates`` are ``SILVERKITE``.\n    Note that this template assumes the data to be sub-daily.\n\nWhen you choose to use the Multistage Forecast model templates,\nyou can override default values by specifying the model components.\nThe overriding in Multistage Forecast works as follows:\n\n  - For each ``MultistageForecastTemplateConfig``'s overridden, there are two situations.\n\n    If the customized ``model_template`` is the same as the ``model_template`` in the default model,\n    for example, both are ``SILVERKITE``, then the customized ``model_components``\n    in the ``MultistageForecastTemplateConfig`` will be used to override the\n    ``model_components`` in the default ``MultistageForecastTemplateConfig``,\n    as overriding is done in the Silverkite template.\n\n    If the model templates are different, say ``SILVERKITE`` in the default and ``SILVERKITE_EMPTY``\n    in the customized, then both the new ``model_template`` and the new entire ``model_components``\n    will be used to replace the original ``model_template`` and ``model_components`` in the default model.\n\n    In both cases, the ``train_length``, ``fit_length``, ``agg_func`` and ``agg_freq`` will be overridden.\n\nFor example, in ``SILVERKITE_TWO_STAGE``, both stages of default templates are ``SILVERKITE``.\nConsider the following example.\n\n"
      ]
    },
    {
      "cell_type": "code",
      "execution_count": null,
      "metadata": {
        "collapsed": false
      },
      "outputs": [],
      "source": [
        "model_template = \"SILVERKITE_TWO_STAGE\"\nmodel_components_override = ModelComponentsParam(\n    custom=dict(\n        multistage_forecast_configs=[\n            MultistageForecastTemplateConfig(\n                train_length=\"730D\",\n                fit_length=None,\n                agg_func=\"nanmean\",\n                agg_freq=\"D\",\n                model_template=ModelTemplateEnum.SILVERKITE.name,\n                model_components=ModelComponentsParam(\n                    seasonality=dict(\n                        weekly_seasonality=7\n                    )\n                )\n            ),\n            MultistageForecastTemplateConfig(\n                train_length=\"30D\",\n                fit_length=None,\n                agg_func=\"nanmean\",\n                agg_freq=None,\n                model_template=ModelTemplateEnum.SILVERKITE_EMPTY.name,\n                model_components=ModelComponentsParam(\n                    seasonality=dict(\n                        daily_seasonality=10\n                    )\n                )\n            )\n        ]\n    )\n)"
      ]
    },
    {
      "cell_type": "markdown",
      "metadata": {},
      "source": [
        "The first model has the same model template ``SILVERKITE`` as the default model template,\nso in ``model_components``, only the weekly seasonality parameter will be used to override\nthe default weekly seasonality in ``SILVERKITE`` model template.\nThe second model has a different model template ``SILVERKITE_EMPTY``.\nThen the second model will use exactly the model template and model components specified in\nthe customized parameters.\n\nThis design is to maximize the flexibility to override an existing Multistage Forecast model template.\nHowever, if you fully know what your configuration will be for each stage of the model,\nthe suggestion is to use ``MULTISTAGE_EMPTY`` and specify your own configurations.\n\n<div class=\"alert alert-info\"><h4>Note</h4><p>If the customized model components contains fewer models than provided by the model template,\n  for example, only 1 stage model is customized when using ``SILVERKITE_TWO_STAGE``.\n  The ` customized ``MultistageForecastTemplateConfig`` will\n  be used to override the first model in the ``SILVERKITE_TWO_STAGE``,\n  and the 2nd model in ``SILVERKITE_TWO_STAGE`` will be appended to the end of the first overridden model.\n  Oppositely, if the number of customized models is 3, the extra customized model will be appended to the\n  end of the 2 models in ``SILVERKITE_TWO_STAGE``.</p></div>\n\n## Grid search\n\nSee :doc:`/gallery/quickstart/03_benchmark/0100_grid_search` for an introduction to the grid search functionality\nof Greykite. Grid search is also supported in Multistage Forecast.\nThe way to specify grid search is similar to specifying grid search in Simple Silverkite model:\nplease specify the grids in each stage of the model's ``model_components``.\nThe Multistage Forecast model will automatically recognize the grids\nand formulate the full grids across all models.\nThis design is to keep the behavior the same as using grid search in Silverkite models.\n\nFor example, the following model components specifies two stage models.\nThe first model has a grid on weekly seasonality with candidates 3 and 5.\nThe second model has a grid on daily seasonality with candidates 10 and 12.\nThe Multistage Forecast model will automatically combine the grids from the two models,\nand generate a grid of size 4.\n\n"
      ]
    },
    {
      "cell_type": "code",
      "execution_count": null,
      "metadata": {
        "collapsed": false
      },
      "outputs": [],
      "source": [
        "model_components_grid = ModelComponentsParam(\n    custom=dict(\n        multistage_forecast_configs=[\n            MultistageForecastTemplateConfig(\n                train_length=\"730D\",\n                fit_length=None,\n                agg_func=\"nanmean\",\n                agg_freq=\"D\",\n                model_template=ModelTemplateEnum.SILVERKITE.name,\n                model_components=ModelComponentsParam(\n                    seasonality=dict(\n                        weekly_seasonality=[3, 5]\n                    )\n                )\n            ),\n            MultistageForecastTemplateConfig(\n                train_length=\"30D\",\n                fit_length=None,\n                agg_func=\"nanmean\",\n                agg_freq=None,\n                model_template=ModelTemplateEnum.SILVERKITE.name,\n                model_components=ModelComponentsParam(\n                    seasonality=dict(\n                        daily_seasonality=[10, 12]\n                    )\n                )\n            )\n        ]\n    )\n)"
      ]
    }
  ],
  "metadata": {
    "kernelspec": {
      "display_name": "Python 3",
      "language": "python",
      "name": "python3"
    },
    "language_info": {
      "codemirror_mode": {
        "name": "ipython",
        "version": 3
      },
      "file_extension": ".py",
      "mimetype": "text/x-python",
      "name": "python",
      "nbconvert_exporter": "python",
      "pygments_lexer": "ipython3",
      "version": "3.7.10"
    }
  },
  "nbformat": 4,
  "nbformat_minor": 0
}