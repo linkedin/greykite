{
  "cells": [
    {
      "cell_type": "code",
      "execution_count": null,
      "metadata": {
        "collapsed": false
      },
      "outputs": [],
      "source": [
        "%matplotlib inline"
      ]
    },
    {
      "cell_type": "markdown",
      "metadata": {},
      "source": [
        "\n# Enhanced week over week models\n\nWeek over week model is a useful tool in business applications,\nwhere time series exhibits strong weekly seasonality.\nIt's fast and somewhat accurate.\nTypical drawbacks of week over week models include\nnot adapting to seasonality (e.g. year-end), fast growth\nand holiday effects.\nAlso, week over week model is vulnerable to corrupted data\nsuch as outliers on last week.\n\nUsing aggregated lags such like week over 3 weeks median is more robust to data corruption,\nbut the growth/seasonality/holiday issue is not resolved.\n\nThe enhanced version of week over week model fits a two-step\nmodel with the ``MultistageForecast`` method in Greykite.\nIt first uses a ``Silverkite`` model to learn the growth,\nyearly seasonality and holiday effects.\nThen it uses a week over week or other lag-based models to model the residual\nweekly patterns.\n\nIn this example, we will learn how to do the original\nweek over week type models and how to use the enhanced versions.\n\n## The regular week over week models\n\nGreykite supports the regular lag-based models through ``LagBasedTemplate``.\nTo see a general introduction of how to use model templates,\nsee `model templates <../templates/0100_template_overview>`_.\n\nLag-based methods are invoked by specifying the ``LAG_BASED`` model template.\n"
      ]
    },
    {
      "cell_type": "code",
      "execution_count": null,
      "metadata": {
        "collapsed": false
      },
      "outputs": [],
      "source": [
        "import warnings\n\nimport pandas as pd\nfrom greykite.common.data_loader import DataLoader\nfrom greykite.common.aggregation_function_enum import AggregationFunctionEnum\nfrom greykite.common import constants as cst\nfrom greykite.framework.templates.forecaster import Forecaster\nfrom greykite.framework.templates.model_templates import ModelTemplateEnum\nfrom greykite.framework.templates.autogen.forecast_config import ForecastConfig\nfrom greykite.framework.templates.autogen.forecast_config import MetadataParam\nfrom greykite.framework.templates.autogen.forecast_config import ModelComponentsParam\nfrom greykite.framework.templates.autogen.forecast_config import EvaluationPeriodParam\nfrom greykite.framework.templates.multistage_forecast_template import MultistageForecastTemplateConfig\nfrom greykite.sklearn.estimator.lag_based_estimator import LagUnitEnum\n\nwarnings.filterwarnings(\"ignore\")\n\ndf = DataLoader().load_peyton_manning()\ndf[cst.TIME_COL] = pd.to_datetime(df[cst.TIME_COL])"
      ]
    },
    {
      "cell_type": "markdown",
      "metadata": {},
      "source": [
        "We specify the data set and evaluation parameters below.\nFirst, we don't specify model components.\nIn this case, the default behavior for ``LAG_BASED`` model template\nis the week over week model.\nIf the forecast horizon is longer than a week,\nthe model will use the forecasted value to generate further forecasts.\n\n"
      ]
    },
    {
      "cell_type": "code",
      "execution_count": null,
      "metadata": {
        "collapsed": false
      },
      "outputs": [],
      "source": [
        "metadata = MetadataParam(\n    time_col=cst.TIME_COL,\n    value_col=cst.VALUE_COL,\n    freq=\"D\"\n)\n\n# Turn off cv and test for faster run.\nevaluation = EvaluationPeriodParam(\n    cv_max_splits=0,\n    test_horizon=0\n)\n\nconfig = ForecastConfig(\n    forecast_horizon=7,\n    model_template=ModelTemplateEnum.LAG_BASED.name,\n    metadata_param=metadata,\n    evaluation_period_param=evaluation\n)\n\nforecaster = Forecaster()\nresult = forecaster.run_forecast_config(\n    df=df,\n    config=config\n)"
      ]
    },
    {
      "cell_type": "markdown",
      "metadata": {},
      "source": [
        "This is the simple week over week estimation.\nIf we print the results, we can see that the predictions\nare exactly the same as the last week's observations.\n\n"
      ]
    },
    {
      "cell_type": "code",
      "execution_count": null,
      "metadata": {
        "collapsed": false
      },
      "outputs": [],
      "source": [
        "result.forecast.df_train.tail(14)"
      ]
    },
    {
      "cell_type": "markdown",
      "metadata": {},
      "source": [
        "In general, the lag-based method supports any\naggregation of any lag combinations.\nNow let's use an example to demonstrate how to do a\nweek-over-3-week median estimation.\nWe override the parameters in ``ModelComponentsParam.custom`` dictionary.\nThe parameters that can be customized are\n\n  * ``lag_unit``: the unit of the lags. Options are in\n    `~greykite.sklearn.estimator.lag_based_estimator.LagUnitEnum`.\n  * ``lags``: a list of integers indicating the lags in ``lag_unit``.\n  * ``agg_func``: the aggregation function name. Options are in\n    `~greykite.common.aggregation_function_enum.AggregationFunctionEnum`.\n  * ``agg_func_params``: a dictionary of parameters to be passed to the aggregation function.\n\nSpecifying the following, the forecasts will become week-over-3-week median.\n\n"
      ]
    },
    {
      "cell_type": "code",
      "execution_count": null,
      "metadata": {
        "collapsed": false
      },
      "outputs": [],
      "source": [
        "model_components = ModelComponentsParam(\n    custom=dict(\n        lag_unit=LagUnitEnum.week.name,                 # unit is \"week\"\n        lags=[1, 2, 3],                                 # lags are 1 week, 2 weeks and 3 weeks\n        agg_func=AggregationFunctionEnum.median.name    # aggregation function is \"median\"\n    )\n)\n\nconfig = ForecastConfig(\n    forecast_horizon=7,\n    model_template=ModelTemplateEnum.LAG_BASED.name,\n    metadata_param=metadata,\n    evaluation_period_param=evaluation,\n    model_components_param=model_components\n)\n\nforecaster = Forecaster()\nresult = forecaster.run_forecast_config(\n    df=df,\n    config=config\n)\n\nresult.forecast.df_train.tail(14)"
      ]
    },
    {
      "cell_type": "markdown",
      "metadata": {},
      "source": [
        "## The enhanced week over week model\n\nThe enhanced week over week model consists of a two-stage model:\n\n  * ``\"Silverkite model\"``: the first stage uses a Silverkite model to learn the\n    yearly seasonality, growth and holiday effects.\n  * ``\"Lag-based model\"``: the second stage uses a lag-based model to learn the\n    residual effects including weekly seasonality.\n\nThe model is available through the ``MultistageForecastTemplate``.\nFor details about the multistage forecast model, see\n`multistage forecast <../tutorials/0200_multistage_forecast>`_.\n\nTo use this two-stage enhanced lag model,\nspecify the model template as ``SILVERKITE_WOW``.\nThe default behavior is to model growth, yearly seasonality and holidays\nwith the automatically inferred parameters from the time series.\nThen it models the residual with a week over week model.\n\n"
      ]
    },
    {
      "cell_type": "code",
      "execution_count": null,
      "metadata": {
        "collapsed": false
      },
      "outputs": [],
      "source": [
        "config = ForecastConfig(\n    forecast_horizon=7,\n    model_template=ModelTemplateEnum.SILVERKITE_WOW.name,\n    metadata_param=metadata,\n    evaluation_period_param=evaluation\n)\n\nforecaster = Forecaster()\nresult = forecaster.run_forecast_config(\n    df=df,\n    config=config\n)\n\nresult.forecast.df_train.tail(14)"
      ]
    },
    {
      "cell_type": "markdown",
      "metadata": {},
      "source": [
        "You may notice that the forecast is not exactly the observations a week ago,\nbecause the Silverkite model did some adjustments on the growth, yearly seasonality\nand holidays.\n\nTo override the model parameters, we will follow the rules mentioned in\n`multistage forecast <../tutorials/0200_multistage_forecast>`_.\nFor each stage of model, if you would like to just change one parameter\nand keep the other parameters the same,\nyou can specify the same model template for the stage as in ``SILVERKITE_WOW``\n(they are ``SILVERKITE_EMPTY`` and ``LAG_BASED``),\nand specify a model components object to override the specific parameter.\nOtherwise, you can specify a new model template.\nThe code below overrides both the Silverkite model and the lag model.\nIn the first stage, it keeps the original configuration but forces turning yearly seasonality off.\nIn the second stage, it uses week-over-3-week median instead of wow model.\n\n"
      ]
    },
    {
      "cell_type": "code",
      "execution_count": null,
      "metadata": {
        "collapsed": false
      },
      "outputs": [],
      "source": [
        "model_components = ModelComponentsParam(\n    custom=dict(\n        multistage_forecast_configs=[\n            MultistageForecastTemplateConfig(\n                train_length=\"1096D\",\n                fit_length=None,\n                agg_func=\"nanmean\",\n                agg_freq=\"D\",\n                # Keeps it the same as the model template in `SILVERKITE_WOW` to override selected parameters below\n                model_template=ModelTemplateEnum.SILVERKITE_EMPTY.name,\n                # Since the model template in this stage is the same as the model template in `SILVERKITE_WOW`,\n                # the parameter below will be applied on top of the existing parameters.\n                model_components=ModelComponentsParam(\n                    seasonality={\n                        \"yearly_seasonality\": False  # force turning off yearly seasonality\n                    }\n                )\n            ),\n            MultistageForecastTemplateConfig(\n                train_length=\"28D\",  # any value longer than the lags (21D here)\n                fit_length=None,  # keep as None\n                agg_func=\"nanmean\",\n                agg_freq=None,\n                # Keeps it the same as the model template in `SILVERKITE_WOW` to override selected parameters below\n                model_template=ModelTemplateEnum.LAG_BASED.name,\n                # Since the model template in this stage is the same as the model template in `SILVERKITE_WOW`,\n                # the parameter below will be applied on top of the existing parameters.\n                model_components=ModelComponentsParam(\n                    custom={\n                        \"lags\": [1, 2, 3],  # changes to 3 weeks' median, default unit is \"week\",\n                        \"lag_unit\": LagUnitEnum.week.name,\n                        \"agg_func\": AggregationFunctionEnum.median.name,  # changes to 3 weeks' median\n                    }\n                )\n            )\n        ]\n    )\n)\n\nconfig = ForecastConfig(\n    forecast_horizon=7,\n    model_template=ModelTemplateEnum.LAG_BASED.name,\n    metadata_param=metadata,\n    evaluation_period_param=evaluation,\n    model_components_param=model_components\n)\n\nforecaster = Forecaster()\nresult = forecaster.run_forecast_config(\n    df=df,\n    config=config\n)\n\nresult.forecast.df_train.tail(14)"
      ]
    }
  ],
  "metadata": {
    "kernelspec": {
      "display_name": "Python 3",
      "language": "python",
      "name": "python3"
    },
    "language_info": {
      "codemirror_mode": {
        "name": "ipython",
        "version": 3
      },
      "file_extension": ".py",
      "mimetype": "text/x-python",
      "name": "python",
      "nbconvert_exporter": "python",
      "pygments_lexer": "ipython3",
      "version": "3.7.10"
    }
  },
  "nbformat": 4,
  "nbformat_minor": 0
}