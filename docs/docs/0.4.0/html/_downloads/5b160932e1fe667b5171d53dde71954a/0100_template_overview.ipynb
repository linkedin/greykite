{
  "cells": [
    {
      "cell_type": "code",
      "execution_count": null,
      "metadata": {
        "collapsed": false
      },
      "outputs": [],
      "source": [
        "%matplotlib inline"
      ]
    },
    {
      "cell_type": "markdown",
      "metadata": {},
      "source": [
        "\n# Template Overview\n\nThis is a basic tutorial for utilizing model templates and adding additional customization.\nAfter reading this tutorial, you will be able to\n\n    - Choose the desired template(s) to use.\n    - Customize the parameters in the templates.\n    - Perform grid search via multiple templates/parameters.\n\nModel templates include parameters and their default values that are ready to use for forecast models.\nThese templates can be run with the :py:meth:`~greykite.framework.templates.forecaster.Forecaster.run_forecast_config`\nfunction by defining the `~greykite.framework.templates.autogen.forecast_config.ForecastConfig` class.\nThe intention of using these templates is to easily combine with our pipeline\n`~greykite.framework.pipeline.pipeline.forecast_pipeline` and do grid search, cross-validation and evaluation.\nIn this tutorial, we will go over available templates, their default values and how to customize the parameters.\n\n## A General View of the Templates and the ``ForecastConfig`` Class\n\nGreykite supports a few forecast models, including ``SILVERKITE``, ``PROPHET``, and ``ARIMA``.\nThe ``SILVERKITE`` model has a high-level\nestimator named `~greykite.sklearn.estimator.simple_silverkite_estimator.SimpleSilverkiteEstimator`\nand a low-level estimator named `~greykite.sklearn.estimator.silverkite_estimator.SilverkiteEstimator`.\nThe ``PROPHET`` model has an estimator named\n`~greykite.sklearn.estimator.prophet_estimator.ProphetEstimator`.\nThe ``ARIMA`` model has an estimator named\n`~greykite.sklearn.estimator.auto_arima_estimator.AutoArimaEstimator`.\n\nThe estimators only implement fit and predict methods. They are used in the\n`~greykite.framework.pipeline.pipeline.forecast_pipeline` function,\nfor grid search, cross-validation, backtest, and forecast.\nTo easily configure and run the forecast pipeline, pass\n`~greykite.framework.templates.autogen.forecast_config.ForecastConfig`\nto the :py:meth:`~greykite.framework.templates.forecaster.Forecaster.run_forecast_config` function.\n\nThe `~greykite.framework.templates.autogen.forecast_config.ForecastConfig` class takes the following\nparameters\n\n    - ``computation_param``: the `~greykite.framework.templates.autogen.forecast_config.ComputationParam` class,\n      defines the computation parameters of the pipeline.\n    - ``coverage``: the forecast interval coverage.\n    - ``evaluation_metric_param``: the `~greykite.framework.templates.autogen.forecast_config.EvaluationMetricParam` class,\n      defines the metrics used to evaluate performance and choose the best model.\n    - ``evaluation_period_param``: the `~greykite.framework.templates.autogen.forecast_config.EvaluationPeriodParam` class,\n      defines the cross-validation and train-test-split rules.\n    - ``forecast_horizon``: the forecast horizon.\n    - ``metadata_param``: the `~greykite.framework.templates.autogen.forecast_config.MetadataParam` class,\n      defines the metadata of the training data.\n    - ``model_components_param``: the `~greykite.framework.templates.autogen.forecast_config.ModelComponentsParam` class,\n      defines the model parameters.\n    - ``model_template``: the name or dataclass of the base model template, corresponding to one or some pre-defined\n      `~greykite.framework.templates.autogen.forecast_config.ModelComponentsParam` class(es).\n\nAmong these parameters, ``model_components_param`` and ``model_template`` define the parameters used in the estimators.\n\n    #. The full estimator parameters can be specified through the\n       `~greykite.framework.templates.autogen.forecast_config.ModelComponentsParam` class,\n       as described in :doc:`/pages/model_components/0100_introduction`.\n    #. We have pre-defined `~greykite.framework.templates.autogen.forecast_config.ModelComponentsParam` classes\n       that serve as default estimator parameters for different use cases. These pre-defined ``ModelComponentsParam`` classes have names.\n    #. You can specify in the ``model_template`` parameter a valid model template name.\n       The function will automatically map the ``model_template`` input to the corresponding estimator and its default parameters.\n    #. To override the default values, you can create a\n       `~greykite.framework.templates.autogen.forecast_config.ModelComponentsParam` class\n       with only the parameters you want to override, and pass it to the ``model_components_param`` parameter.\n\nNote that you don't have to specify all values in the\n`~greykite.framework.templates.autogen.forecast_config.ModelComponentsParam`\nto override the defaults. If a parameter is not specified, the default value for the parameter\nspecified by the model template name will be used.\nIn the later sections we will go over the valid ``model_template`` and ``ModelComponentsParam`` for each of the\nthree estimators.\nFor details about how to configure the other parameters and how to use the ``run_forecast_config`` function, see\n:doc:`/gallery/tutorials/0100_forecast_tutorial`.\n\nThe three estimators accept different input for ``model_template`` and ``ModelComponentsParam``.\nBelow are the valid input types for the ``model_template`` parameter.\n\n    - High-level ``Silverkite`` template: for the high-level ``SimpleSilverkiteEstimator``, we have model templates named\n      ``\"AUTO\"``, ``\"SILVERKITE\"``, ``\"SILVERKITE_HOURLY_1\"``, ``\"SILVERKITE_HOURLY_24\"``,\n      ``\"SILVERKITE_HOURLY_168\"``, ``\"SILVERKITE_HOURLY_336\"``,\n      ``\"SILVERKITE_DAILY_1\"``, ``\"SILVERKITE_DAILY_90\"``, ``\"SILVERKITE_WEEKLY\"``, ``\"SILVERKITE_MONTHLY\"``,\n      ``\"SILVERKITE_EMPTY\"`` and a set of\n      generic naming following some rules. This type of model templates support list input for both\n      ``model_template`` and ``model_components_param`` parameters.\n      This type of model templates are most recommended for ease of use.\n    - Low-level ``Silverkite`` template: for the low-level ``SilverkiteEstimator``, we have a model template\n      named ``\"SK\"``. This template allows you to configure lower-level parameters in the ``Silverkite`` model.\n      This template does not support list input.\n    - Prophet template: for the ``ProphetEstimator``, we have a model template named ``\"PROPHET\"``.\n      This template does not support list input.\n\nTo customize the default parameters in the templates, the\n`~greykite.framework.templates.autogen.forecast_config.ModelComponentsParam` dataclass\ntakes the following parameters\n\n* ``growth``: defines how the trend of the time series grows.\n* ``seasonality``: defines the seasonality components and orders.\n* ``changepoints``: defines when trend and/or seasonality should change, including automatic options.\n* ``events``: defines short term events and holidays.\n* ``autoregression``: defines the lags and aggregations for the past values.\n* ``regressors``: defines extra regressors.\n* ``uncertainty``: defines the forecast interval parameters.\n* ``custom``: defines parameters that do not belong to the other sections.\n* ``hyperparameter_override``: used to create overrides for the parameters specified above; useful in grid search.\n\nThe model's tuning parameters are set according to the categories above.\nHowever, different estimators take different types of values for these categories.\nWe will go over each of the three types of templates, their default values, and how to customize the\n``ModelComponentsParam`` for them.\nFor more general details, see :doc:`/pages/model_components/0100_introduction`.\n"
      ]
    },
    {
      "cell_type": "code",
      "execution_count": null,
      "metadata": {
        "collapsed": false
      },
      "outputs": [],
      "source": [
        "# Imports related libraries.\nimport pandas as pd\n\nfrom greykite.common.constants import GrowthColEnum\nfrom greykite.framework.templates.autogen.forecast_config import ForecastConfig\nfrom greykite.framework.templates.autogen.forecast_config import ModelComponentsParam\nfrom greykite.framework.templates.model_templates import ModelTemplateEnum\nfrom greykite.framework.templates.simple_silverkite_template import SimpleSilverkiteTemplate"
      ]
    },
    {
      "cell_type": "markdown",
      "metadata": {},
      "source": [
        "## The High-level Templates in ``SILVERKITE``\nThe high-level templates in ``SILVERKITE`` provides many good defaults that work under different scenarios.\nAll templates in this section use `~greykite.sklearn.estimator.simple_silverkite_estimator.SimpleSilverkiteEstimator`.\nThe two most basic templates are ``\"SILVERKITE\"`` and ``\"SILVERKITE_EMPTY\"``.\n\n``\"SILVERKITE\"`` is a template with automatic growth, seasonality, holidays, and interactions.\nIt works best for hourly and daily frequencies.\nIf you specify ``\"SILVERKITE\"`` as ``model_template``, the following\n`~greykite.framework.templates.autogen.forecast_config.ModelComponentsParam` class\nis used as default template values.\n\n"
      ]
    },
    {
      "cell_type": "code",
      "execution_count": null,
      "metadata": {
        "collapsed": false
      },
      "outputs": [],
      "source": [
        "model_components_param_silverkite = ModelComponentsParam(\n    seasonality={\n        \"auto_seasonality\": False,\n        \"yearly_seasonality\": \"auto\",\n        \"quarterly_seasonality\": \"auto\",\n        \"monthly_seasonality\": \"auto\",\n        \"weekly_seasonality\": \"auto\",\n        \"daily_seasonality\": \"auto\",\n    },\n    growth={\n        \"growth_term\": GrowthColEnum.linear.name\n    },\n    events={\n        \"auto_holiday\": False,\n        \"holidays_to_model_separately\": \"auto\",\n        \"holiday_lookup_countries\": \"auto\",\n        \"holiday_pre_num_days\": 2,\n        \"holiday_post_num_days\": 2,\n        \"holiday_pre_post_num_dict\": None,\n        \"daily_event_df_dict\": None,\n    },\n    changepoints={\n        \"auto_growth\": False,\n        \"changepoints_dict\": {\n            \"method\": \"auto\",\n            \"yearly_seasonality_order\": 15,\n            \"resample_freq\": \"3D\",\n            \"regularization_strength\": 0.6,\n            \"actual_changepoint_min_distance\": \"30D\",\n            \"potential_changepoint_distance\": \"15D\",\n            \"no_changepoint_distance_from_end\": \"90D\"\n        },\n        \"seasonality_changepoints_dict\": None\n    },\n    autoregression={\n        \"autoreg_dict\": \"auto\",\n        \"simulation_num\": 10  # simulation is not triggered with ``autoreg_dict=\"auto\"``\n    },\n    regressors={\n        \"regressor_cols\": []\n    },\n    lagged_regressors={\n        \"lagged_regressor_dict\": None\n    },\n    uncertainty={\n        \"uncertainty_dict\": None\n    },\n    custom={\n        \"fit_algorithm_dict\": {\n            \"fit_algorithm\": \"ridge\",\n            \"fit_algorithm_params\": None,\n        },\n        \"feature_sets_enabled\": \"auto\",  # \"auto\" based on data freq and size\n        \"max_daily_seas_interaction_order\": 5,\n        \"max_weekly_seas_interaction_order\": 2,\n        \"extra_pred_cols\": [],\n        \"drop_pred_cols\": None,\n        \"explicit_pred_cols\": None,\n        \"min_admissible_value\": None,\n        \"max_admissible_value\": None,\n        \"normalize_method\": \"zero_to_one\"\n    }\n)"
      ]
    },
    {
      "cell_type": "markdown",
      "metadata": {},
      "source": [
        "To customize this template, create a ``ModelComponentsParam`` class like above with the parameters you would like to use\nto override the defaults, and feed it to the ``model_components_param`` parameter in ``ForecastConfig``. For example\n\n"
      ]
    },
    {
      "cell_type": "code",
      "execution_count": null,
      "metadata": {
        "collapsed": false
      },
      "outputs": [],
      "source": [
        "custom_model_components = ModelComponentsParam(\n    seasonality={\n        \"yearly_seasonality\": 15\n    },\n    custom={\n        \"fit_algorithm_dict\": {\n            \"fit_algorithm\": \"ridge\",\n            \"fit_algorithm_params\": None\n        }\n    }\n)"
      ]
    },
    {
      "cell_type": "markdown",
      "metadata": {},
      "source": [
        "These two parameters can be put in the\n`~greykite.framework.templates.autogen.forecast_config.ForecastConfig` class.\nThe parameters used by the model will be those in the ``model_components_param_silverkite``\nwith ``\"yearly_seasonality\"`` and ``\"fit_algorithm_dict\"`` overridden by the custom parameters.\n\n"
      ]
    },
    {
      "cell_type": "code",
      "execution_count": null,
      "metadata": {
        "collapsed": false
      },
      "outputs": [],
      "source": [
        "forecast_config = ForecastConfig(\n    model_template=ModelTemplateEnum.SILVERKITE.name,\n    model_components_param=custom_model_components\n)"
      ]
    },
    {
      "cell_type": "markdown",
      "metadata": {},
      "source": [
        "Detailed explanations for these parameters are in :doc:`/pages/model_components/0100_introduction`. The following paragraphs\nbriefly summarized what each parameter does.\n\nThe ``seasonality`` parameter recognizes the keys ``\"yearly_seasonality\"``, ``\"quarterly_seasonality\"``, ``\"monthly_seasonality\"``,\n``\"weekly_seasonality\"`` and ``\"daily_seasonality\"``. Their values are the corresponding Fourier series values.\nFor ``\"SILVERKITE\"`` template, the values are ``\"auto\"`` and their defaults are defined in\n`~greykite.algo.forecast.silverkite.constants.silverkite_seasonality.SilverkiteSeasonalityEnum`.\n\nThe ``growth`` parameter recognizes the key ``\"growth_term\"``, which describes the growth rate of the time series model.\nFor ``\"SILVERKITE\"`` template, the value is ``\"linear\"`` and indicates linear growth.\n\nThe ``events`` parameter recognizes the keys ``\"holidays_to_model_separately\"``, ``\"holiday_lookup_countries\"``,\n``\"holiday_pre_num_days\"``, ``\"holiday_post_num_days\"``, ``\"holiday_pre_post_num_dict\"`` and ``\"daily_event_df_dict\"``.\nMore details can be found at :doc:`/pages/model_components/0400_events`.\nFor ``\"SILVERKITE\"`` template, it automatically looks up holidays in a holiday dictionary and model major holidays\nplus minus 2 days with separate indicators.\n\nThe ``changepoints`` parameter recognizes the keys ``\"changepoints_dict\"`` and ``\"seasonality_changepoints_dict\"``,\nwhich correspond to trend changepoints and seasonality changepoints.\nFor more details of configuring these two parameters, see :doc:`/gallery/quickstart/01_exploration/0100_changepoint_detection`.\nFor ``\"SILVERKITE\"`` template, both parameters are ``None``, indicating that neither trend changepoints nor seasonality changepoints\nis included.\n\nThe ``autoregression`` parameter recognizes the key ``\"autoreg_dict\"``. You can specify lags and aggregated lags through the\ndictionary to trigger autoregressive terms. Specify the value as ``\"auto\"`` to automatically include recommended\nautoregressive terms for the data frequency and forecast horizon.\nNote that \"auto\" ensures that all the lag orders in the autoregressive terms are at least ``forecast_horizon``.\nTherefore, simulation is not used in the prediction phase, hence ``simulation_num`` does not matter.\nMore details can be found at :doc:`/pages/model_components/0800_autoregression`.\nFor ``\"SILVERKITE\"`` template, autoregression is not included.\n\nThe ``regressors`` parameter recognizes the key ``\"regressor_cols\"``, which takes a list of regressor column names. These regressor columns\nhave to be included in the training df for both training and forecast periods. For more details about regressors, see\n`Regressors <../../pages/model_components/0700_regressors.html#silverkite>`_.\nFor ``\"SILVERKITE\"`` template, no regressors are included.\n\nThe ``lagged_regressors`` parameter recognizes the key ``\"lagged_regressor_dict\"``.\nIt is a dictionary with keys being the regressor's name, value being a dictionary that specifies the lag structure\nin a similar manner as ``\"autoreg_dict\"``. For more details about lagged regressors, see\n`Regressors <../../pages/model_components/0700_regressors.html#silverkite>`_.\nFor ``\"SILVERKITE\"`` template, no lagged regressors are included.\n\nThe ``uncertainty`` parameter recognizes the key ``\"uncertainty_dict\"``, which takes a dictionary to specify how forecast intervals\nare calculated. For more details about uncertainty, see `Uncertainty <../../pages/model_components/0900_uncertainty.html#silverkite>`_.\nFor ``\"SILVERKITE\"`` template, the default value is ``None``. If ``coverage`` in ``ForecastConfig`` is not None,\nthe template uses a default setting based on data frequency. We will see how to set ``coverage`` later.\n\nThe ``custom`` parameter recognizes specific keys for ``SILVERKITE`` type of templates that correspond to\n`~greykite.sklearn.estimator.simple_silverkite_estimator.SimpleSilverkiteEstimator`. These keys include\n\n    - ``\"fit_algorithm_dict\"`` takes a dictionary to specify what regression method is used to fit the time series.\n      The default is the ridge regression in `sklearn`. For a detailed list of algorithms, see\n      `Algorithms <../../pages/model_components/0600_custom.html#fit-algorithm>`_.\n    - ``\"feature_sets_enabled\"`` defines the interaction terms to be included in the model. A list of pre-defined\n      interaction terms can be found at `Feature sets <../../pages/model_components/0600_custom.html#interactions>`_.\n      The default is ``None``, which automatically finds the proper interaction terms that fit the data frequency.\n    - ``\"max_daily_seas_interaction_order\"`` is the maximum order of Fourier series components in daily seasonality to\n      be used in interactions. The default is 5.\n    - ``\"max_weekly_seas_interaction_order\"`` is the maximum order of Fourier series components in daily seasonality to\n      be used in interactions. The default is 2.\n    - ``\"extra_pred_cols\"`` defines extra predictor column names. For details, see\n      `Extra predictors <../../pages/model_components/0600_custom.html#extra-predictors>`_.\n      The default is no extra predictors.\n    - ``\"min_admissible_value\"`` is the minimum admissible value in forecast. All values below this will be clipped at this value.\n      The default is None.\n    - ``\"max_admissible_value\"`` is the maximum admissible value in forecast. All values above this will be clipped at this value.\n      The default is None.\n    - ``\"normalize_method\"`` is the way of normalizing all columns in the feature matrix before fitting the model.\n      Supported methods are \"statistical\", \"zero_to_one\", \"minus_half_to_half\" and \"zero_at_origin\".\n      The default is \"zero_to_one\".\n\nAll default high-level ``SILVERKITE`` templates are defined through this framework.\nThe ``\"SILVERKITE_EMPTY\"`` template is an empty template that does not include any component.\nIf you provide ``ModelComponentsParam`` via ``model_components_param`` with ``\"SILVERKITE_EMPTY\"``,\nthe final model parameter to be used will be exactly what you provided through ``ModelComponentsParam``.\nIt's not like ``\"SILVERKITE\"``, where the values you do not provide within ``model_components_param`` will\nbe filled with the defaults in ``\"SILVERKITE\"``.\nIf you choose to use the ``\"SILVERKITE_EMPTY\"`` template but do not provide any ``ModelComponentsParam``\nvia ``model_components_param``, the model will only fit the intercept term.\n\n## Auto model template\nThe Greykite library supports auto model template selection.\nIf you are not sure which model template to use,\nyou can try out the auto model template selection.\nSimply specify \"AUTO\" for ``model_template``,\nthe model will automatically select the most appropriate\nmodel template based on the data frequency, forecast horizon and evaluation configs.\n\n"
      ]
    },
    {
      "cell_type": "code",
      "execution_count": null,
      "metadata": {
        "collapsed": false
      },
      "outputs": [],
      "source": [
        "forecast_config_auto = ForecastConfig(\n    model_template=ModelTemplateEnum.AUTO.name\n)"
      ]
    },
    {
      "cell_type": "markdown",
      "metadata": {},
      "source": [
        "The auto model template selection will always map to a high-level Silverkite model template.\nThat means you can specify ``model_components_param`` to override the model configurations\nin the same way as if you specified a high-level Silverkite model template.\n\nThe default model template is ``SILVERKITE``, with the following exceptions:\n\n* Hourly data\n\n  * enough cv (cv splits >= 5 and cv evaluation >= 30 points)\n\n    * Forecast horizon == 1: uses ``SILVERKITE_HOURLY_1``.\n    * Forecast horizon <= 48: uses ``SILVERKITE_HOURLY_24``.\n    * Forecast horizon <= 192: uses ``SILVERKITE_HOURLY_168``.\n    * Forecast horizon <= 504: uses ``SILVERKITE_HOURLY_336``.\n\n  * not enough cv\n\n    * Forecast horizon == 1: uses ``SILVERKITE``.\n    * Forecast horizon <= 48: uses first template in ``SILVERKITE_HOURLY_24``.\n    * Forecast horizon <= 192: uses first template in ``SILVERKITE_HOURLY_168``.\n    * Forecast horizon <= 504: uses first template in ``SILVERKITE_HOURLY_336``.\n\n* Daily data\n\n  * enough cv (cv splits >= 5 and cv evaluation >= 30 points)\n\n    * Forecast horizon <= 7: uses ``SILVERKITE_DAILY_1``.\n    * Forecast horizon >= 90: uses ``SILVERKITE_DAILY_90``.\n\n  * not enough cv\n\n    * Forecast horizon <= 7: uses ``SILVERKITE_DAILY_1_CONFIG_1``.\n    * Forecast horizon >= 90: uses first template in ``SILVERKITE_DAILY_90``.\n\n* Weekly data\n\n  * enough cv (cv splits >= 5 and cv evaluation >= 30 points)\n\n    * Uses ``SILVERKITE_WEEKLY``.\n\n  * not enough cv\n\n    * Uses first template in ``SILVERKITE_WEEKLY``.\n\n* Monthly data\n\n  * Uses ``SILVERKITE_MONTHLY``.\n\n### Pre-defined Generic High-level ``SILVERKITE`` Templates\nIt can happen that you would like to customize the ``ModelComponentsParam`` but are not sure\nwhich values to set for each parameter.\nThe high-level ``SILVERKITE`` template pre-defines sets of values for different components,\nindexed by human-readable language.\nThis allows you to try sensible options for the components using a directive language.\nFor example, \"setting seasonality to normal and changepoints to light\" is specified by\n``sk.SEAS.value.NM`` and ``sk.CP.value.LT``.\nThis option provides rough tuning knobs before fine tuning the exact parameter values.\nThis type of template name must be initialized through the\n`~greykite.framework.templates.simple_silverkite_template_config.SimpleSilverkiteTemplateOptions`\ndataclass.\nYou can choose a value for each component and assemble them as a template.\n\n"
      ]
    },
    {
      "cell_type": "code",
      "execution_count": null,
      "metadata": {
        "collapsed": false
      },
      "outputs": [],
      "source": [
        "from greykite.framework.templates.simple_silverkite_template_config \\\n    import SimpleSilverkiteTemplateOptions as st\nfrom greykite.framework.templates.simple_silverkite_template_config \\\n    import SILVERKITE_COMPONENT_KEYWORDS as sk\n# The model template specifies\n# hourly frequency, normal seasonality (no quarterly or monthly), linear growth, light trend changepoints,\n# separate holidays with plus/minus 2 days, automatic feature sets, ridge regression, automatic autoregression,\n# automatic max daily seasonality interaction order and automatic max weekly seasonality interaction order.\nmodel_template = st(\n    freq=sk.FREQ.value.HOURLY,\n    seas=sk.SEAS.value.NM,\n    gr=sk.GR.value.LINEAR,\n    cp=sk.CP.value.LT,\n    hol=sk.HOL.value.SP2,\n    feaset=sk.FEASET.value.AUTO,\n    algo=sk.ALGO.value.RIDGE,\n    ar=sk.AR.value.AUTO,\n    dsi=sk.DSI.value.AUTO,\n    wsi=sk.WSI.value.AUTO\n)"
      ]
    },
    {
      "cell_type": "markdown",
      "metadata": {},
      "source": [
        "This option provides rough tuning knobs to intuitively try out different model component parameters.\nYou can then fine tune the model using ``ModelComponentsParams`` directly.\nA complete list of the key-values are\n\n    - ``FREQ``: the data frequency, can be \"HOURLY\", \"DAILY\" or \"WEEKLY\", default \"DAILY\".\n    - ``SEAS``: the seasonality, can be \"LT\", \"NM\", \"HV\", \"NONE\", \"LTQM\", \"NMQM\" or \"HVQM\", default \"LT\".\n      The \"QM\" versions include quarterly and monthly seasonality while the others do not.\n    - ``GR``: the growth term, can be \"LINEAR\" or \"NONE\", default \"LINEAR\", corresponding to linear growth or constant growth.\n    - ``CP``: the automatically detected trend change points, can be \"NONE\", \"LT\", \"NM\", \"HV\", default \"NONE\".\n    - ``HOL``: the holidays, can be \"NONE\", \"SP1\", \"SP2\", \"SP4\" or \"TG\", default \"NONE\". The default configuration looks up\n      popular holidays in a list of popular countries. The \"SP{n}\" values models major holidays\n      with plus/minus n days around them separately, while \"TG\" models all holidays along with\n      plus/minus 2 days together as one indicator.\n    - ``FEASET``: the feature sets that defines the interaction terms, can be \"AUTO\", \"ON\" or \"OFF\", default \"OFF\".\n      \"AUTO\" choose the pre-defined interaction terms automatically, while \"ON\" and \"OFF\" includes\n      or excludes all pre-defined interaction terms, respectively.\n    - ``ALGO``: the algorithm used to fit the model, can be \"LINEAR\", \"RIDGE\", \"SGD\" or \"LASSO\", default \"LINEAR\".\n      Ridge and Lasso use cross-validation to identify the tuning parameter, while \"SGD\"\n      (stochastic gradient descent) implements L2 norm regularization with tuning parameter 0.001.\n    - ``AR``: the autoregressive terms, can be \"AUTO\" or \"OFF\", default \"OFF\".\n    - ``DSI``: the maximum daily seasonality order used for interaction in feature sets, can be \"AUTO\" or \"OFF\", default \"AUTO\".\n    - ``WSI``: the maximum weekly seasonality order used for interaction in feature sets, can be \"AUTO\" or \"OFF\", default \"AUTO\".\n\nNote that if you do not specify any parameter, the default value will be used:\n``FREQ=DAILY``, ``SEAS=LT``, ``GR=LINEAR``, ``CP=NONE``, ``HOL=NONE``, ``FEASET=OFF``, ``ALGO=LINEAR``,\n``AR=OFF``, ``DSI=AUTO``, ``WSI=AUTO``.\nTo see how these keywords are converted to these model component params, see\n`~greykite.framework.templates.simple_silverkite_template_config.COMMON_MODELCOMPONENTPARAM_PARAMETERS`.\nHowever, you can print the ``ModelComponentsParam`` class for a model template with the util function\n`~greykite.framework.templates.simple_silverkite_template.SimpleSilverkiteTemplate.get_model_components_from_model_template`.\n\n"
      ]
    },
    {
      "cell_type": "code",
      "execution_count": null,
      "metadata": {
        "collapsed": false
      },
      "outputs": [],
      "source": [
        "sst = SimpleSilverkiteTemplate()\nmodel_components = sst.get_model_components_from_model_template(\"SILVERKITE_EMPTY\")\nprint(model_components[0])  # `model_components` is a list of length 1."
      ]
    },
    {
      "cell_type": "markdown",
      "metadata": {},
      "source": [
        "You can also pass a dataclass.\n\n"
      ]
    },
    {
      "cell_type": "code",
      "execution_count": null,
      "metadata": {
        "collapsed": false
      },
      "outputs": [],
      "source": [
        "model_components = sst.get_model_components_from_model_template(model_template)\nprint(model_components[0])  # `model_components` is a list of length 1."
      ]
    },
    {
      "cell_type": "markdown",
      "metadata": {},
      "source": [
        "### Provide a List of Templates\nFor the high-level ``\"SILVERKITE\"`` templates through the\n`~greykite.sklearn.estimator.simple_silverkite_estimator.SimpleSilverkiteEstimator` estimator,\nyou are allowed to provide a list of ``model_template`` or/and a list of ``model_components_param``.\nThis option allows you to do grid search and compare over different templates/model component overrides\nat the same time.\n\nFor ``model_template``, you can provide a list of any templates defined above. For example, you can do\n\n"
      ]
    },
    {
      "cell_type": "code",
      "execution_count": null,
      "metadata": {
        "collapsed": false
      },
      "outputs": [],
      "source": [
        "model_templates_list = [\"SILVERKITE\", \"SILVERKITE_EMPTY\", model_template]"
      ]
    },
    {
      "cell_type": "markdown",
      "metadata": {},
      "source": [
        "The `~greykite.framework.templates.simple_silverkite_template.SimpleSilverkiteTemplate.get_model_components_from_model_template`\nalso takes a list as input.\n\n"
      ]
    },
    {
      "cell_type": "code",
      "execution_count": null,
      "metadata": {
        "collapsed": false
      },
      "outputs": [],
      "source": [
        "model_components = sst.get_model_components_from_model_template(model_templates_list)\nprint(model_components)  # There are 3 elements."
      ]
    },
    {
      "cell_type": "markdown",
      "metadata": {},
      "source": [
        "For ``model_components_param``, you can also create a list of ``ModelComponentsParam`` classes to override\nthe base templates. Each single ``ModelComponentsParam`` is used to override each single base template.\nTherefore, if you provide a list of 4 ``ModelComponentsParam`` via ``model_components_param`` and the list\nof 3 base templates above via ``model_template``, a total of 12 different sets of model parameters is expected.\nHowever, only unique sets of parameters will be kept.\n\nThere are also pre-defined model templates that are defined through lists.\nThe ``\"SILVERKITE_DAILY_1\"`` is a pre-tuned model template on daily data with 1 day forecast horizon.\nIt is defined as a list of 3 model configs.\nThe ``\"SILVERKITE_DAILY_90\"`` is a pre-tuned model template on daily data with 90 day's forecast horizon.\nIt is defined as a list of 4 model configs.\nThe ``\"SILVERKITE_WEEKLY\"`` is a pre-tuned model template on weekly data.\nIt is defined as a list of 4 model configs.\nThe ``\"SILVERKITE_HOURLY_1\"``, ``\"SILVERKITE_HOURLY_24\"``, ``\"SILVERKITE_HOURLY_168\"``, ``\"SILVERKITE_HOURLY_336\"``\nare pre-tuned model templates on hourly data with horizons 1 hour, 1 day, 1 week and 2 weeks, respectively.\nThey are defined as a list of 3 (for ``\"SILVERKITE_HOURLY_1\"``) or 4 (for others) model configs.\n\nYou are also allowed to put these names in the ``model_template`` list, for example\n\n"
      ]
    },
    {
      "cell_type": "code",
      "execution_count": null,
      "metadata": {
        "collapsed": false
      },
      "outputs": [],
      "source": [
        "model_templates_list2 = [\"SILVERKITE_DAILY_90\", model_template]"
      ]
    },
    {
      "cell_type": "markdown",
      "metadata": {},
      "source": [
        "This corresponds to 5 single base templates. Whenever you specify multiple sets of parameters\n(list of templates, list of model components, etc.), it's best to have a sufficient number\nof cross validation folds so that the model does not pick a biased set of parameters.\n\n## The Low-level Templates in ``SILVERKITE``\n\nThere is a pre-defined low-level template named ``\"SK\"`` that takes low-level parameters and uses\n`~greykite.sklearn.estimator.silverkite_estimator.SilverkiteEstimator`.\n\nThe attributes in ``ModelComponentsParam`` are the same as in ``\"SILVERKITE\"`` but they take different\ntypes of inputs.\n\n"
      ]
    },
    {
      "cell_type": "code",
      "execution_count": null,
      "metadata": {
        "collapsed": false
      },
      "outputs": [],
      "source": [
        "model_components_param_sk = ModelComponentsParam(\n    growth={\n    },  # growth does not accept any parameters, pass growth term via `extra_pred_cols` instead.\n    seasonality={\n        \"fs_components_df\": [pd.DataFrame({\n            \"name\": [\"tod\", \"tow\", \"tom\", \"toq\", \"toy\"],\n            \"period\": [24.0, 7.0, 1.0, 1.0, 1.0],\n            \"order\": [3, 3, 1, 1, 5],\n            \"seas_names\": [\"daily\", \"weekly\", \"monthly\", \"quarterly\", \"yearly\"]})],\n    },\n    changepoints={\n        \"changepoints_dict\": [None],\n        \"seasonality_changepoints_dict\": [None]\n    },\n    events={\n        \"daily_event_df_dict\": [None]\n    },\n    autoregression={\n        \"autoreg_dict\": [None]\n    },\n    # `regressors` does not take any input for SK template,\n    # please specify regressor columns in ``custom.extra_pred_cols`` below.\n    regressors={},\n    uncertainty={\n        \"uncertainty_dict\": [None]\n    },\n    custom={\n        \"fit_algorithm_dict\": {\n            \"fit_algorithm\": \"ridge\",\n            \"fit_algorithm_params\": None,\n        },\n        \"extra_pred_cols\": [\"ct1\"],  # extra predictor columns and regressors\n        \"min_admissible_value\": [None],\n        \"max_admissible_value\": [None],\n    }\n)"
      ]
    },
    {
      "cell_type": "markdown",
      "metadata": {},
      "source": [
        "The ``growth`` parameter, the dictionary should be empty. The growth term's name is specified\nvia ``extra_pred_cols`` in ``custom``. The default growth term is ``\"ct1\"``, which corresponds to linear growth.\n\nThe ``seasonality`` parameter, it recognizes the key ``\"fs_components_df\"``, which is a pandas dataframe\nthat specifies the fourier series generation information. For more information, see\n`~greykite.sklearn.estimator.silverkite_estimator.SilverkiteEstimator`.\nFor ``\"SK\"`` template, the default includes daily, weekly, monthly, quarterly and yearly seasonality\nwith orders 3, 3, 1, 1, 5, respectively.\n\nThe ``changepoints`` parameter recognizes the keys ``\"changepoints_dict\"`` and ``\"seasonality_changepoints_dict\"``.\nEach of the two keys takes a parameter dictionary that corresponds to trend changepoints and seasonality changepoints.\nFor more details of configuring these two parameters, see :doc:`/gallery/quickstart/01_exploration/0100_changepoint_detection`.\nFor ``\"SK\"`` template, both parameters are ``None``, indicating that neither trend changepoints nor seasonality changepoints\nis included.\n\nThe ``events`` parameter recognizes the key ``\"daily_event_df_dict\"``.\nSpecify any events or holidays through the \"daily_event_df_dict\". The usage is the same as this parameter in ``SILVERKITE``.\nFor ``\"SK\"`` template, the default is no daily events (holidays).\n\nThe ``autoregression`` parameter recognizes the key ``\"autoreg_dict\"``. You can specify lags and aggregated lags through the\ndictionary to trigger autoregressive terms. Specify the value as ``\"auto\"`` to automatically include the proper order of lags.\nFor ``\"SK\"`` template, autoregression is not included.\n\nThe ``regressors`` parameter does not recognize any key.\nIf you have external regressors you would like to include,\nyou need to include them in ``custom.extra_pred_cols`` instead of ``regressors.regressor_cols``.\nFor more details about regressors, see\n`Regressors <../../pages/model_components/0700_regressors.html#silverkite>`_.\nFor ``\"SK\"`` template, no regressors are included.\n\nThe ``uncertainty`` parameter recognizes the key ``\"uncertainty_dict\"``, which takes a dictionary to specify how forecast intervals\nare calculated. For more details about uncertainty, see `Uncertainty <../../pages/model_components/0900_uncertainty.html#silverkite>`_.\nFor ``\"SK\"`` template, the default value is ``None``. If ``coverage`` in ``ForecastConfig`` is not None, it will automatically finds the\nmost proper conditional residual to compute forecast intervals. We will see how to set ``coverage`` later.\n\nThe ``custom`` parameter recognizes specific keys for ``\"SK\"`` type of template that correspond to\n`~greykite.sklearn.estimator.silverkite_estimator.SilverkiteEstimator`. These keys include\n\n    - ``\"fit_algorithm_dict\"`` takes a dictionary to specify what regression method is used to fit the time series.\n      The default is the linear regression in `sklearn`. For a detailed list of algorithms, see\n      `Algorithms <../../pages/model_components/0600_custom.html#fit-algorithm>`_.\n    - ``\"extra_pred_cols\"`` defines extra predictor column names. It accepts any valid patsy model formula term. Every column\n      name needs to be either generated by `~greykite.common.features.timeseries_features.build_silverkite_features`\n      or included in the data df. For details, see\n      `Extra predictors <../../pages/model_components/0600_custom.html#specify-model-terms>`_.\n      The default is ``[\"ct1\"]``, which is the linear growth term.\n      If you have external regressors, this is the place to include the regressor names.\n    - ``\"min_admissible_value\"`` is the minimum admissible value in forecast. All values below this will be clipped at this value.\n      The default is None.\n    - ``\"max_admissible_value\"`` is the maximum admissible value in forecast. All values above this will be clipped at this value.\n      The default is None.\n\n"
      ]
    },
    {
      "cell_type": "markdown",
      "metadata": {},
      "source": [
        "A major difference between the high-level and low-level interfaces is that\nthe lower-level interface does not have pre-defined holidays or feature sets (interaction terms),\nand takes more customizable seasonality information. Note that ``\"SK\"`` is the only low-level\ntemplate in ``SILVERKITE`` estimators, and does not support a list of ``model_template`` or\n``model_components_param``.\n\n## The ``\"PROPHET\"`` Template\n\nThe ``\"PROPHET\"`` template uses\n`~greykite.sklearn.estimator.prophet_estimator.ProphetEstimator`,\nwhich is a wrapper for the `Prophet model <https://facebook.github.io/prophet/docs/quick_start.html>`_.\n\nThe attributes in ``ModelComponentsParam`` are the same as in ``\"SILVERKITE\"`` but they take different\ntypes of inputs.\n\n"
      ]
    },
    {
      "cell_type": "code",
      "execution_count": null,
      "metadata": {
        "collapsed": false
      },
      "outputs": [],
      "source": [
        "model_components_param_prophet = ModelComponentsParam(\n    growth={\n        \"growth_term\": [\"linear\"]\n    },\n    seasonality={\n        \"seasonality_mode\": [\"additive\"],\n        \"seasonality_prior_scale\": [10.0],\n        \"yearly_seasonality\": ['auto'],\n        \"weekly_seasonality\": ['auto'],\n        \"daily_seasonality\": ['auto'],\n        \"add_seasonality_dict\": [None]\n    },\n    changepoints={\n        \"changepoint_prior_scale\": [0.05],\n        \"changepoints\": [None],\n        \"n_changepoints\": [25],\n        \"changepoint_range\": [0.8]\n    },\n    events={\n        \"holiday_lookup_countries\": \"auto\",\n        \"holiday_pre_num_days\": [2],\n        \"holiday_post_num_days\": [2],\n        \"start_year\": 2015,\n        \"end_year\": 2030,\n        \"holidays_prior_scale\": [10.0]\n    },\n    regressors={\n        \"add_regressor_dict\": [None]\n    },\n    uncertainty={\n        \"mcmc_samples\": [0],\n        \"uncertainty_samples\": [1000]\n    }\n)"
      ]
    },
    {
      "cell_type": "markdown",
      "metadata": {},
      "source": [
        "The ``growth`` parameter recognizes the key ``\"growth_term\"``, which describes the growth rate of the time series model.\nFor ``\"PROPHET\"`` template, the value indicates linear growth.\n\nThe ``seasonality`` parameter recognizes the keys ``\"seasonality_mode\"``, ``\"seasonality_prior_scale\"``,\n``\"yearly_seasonality\"``, ``\"weekly_seasonality\"``, ``\"daily_seasonality\"`` and ``\"add_seasonality_dict\"``.\nFor ``\"PROPHET\"`` template, the seasonality model is \"additive\" with prior scale 10 and automatic components.\n\nThe ``changepoints`` parameter recognizes the keys ``\"changepoint_prior_scale\"``, ``\"changepoints\"``, ``\"n_changepoints\"``\nand ``\"changepoint_range\"``.\nThe Prophet model supports trend changepoints only.\nFor ``\"PROPHET\"`` template, it puts 25 potential trend changepoints uniformly over the first 80%\ndata and use regularization with prior scale 0.05.\n\nThe ``events`` parameter recognizes the keys ``\"holiday_lookup_countries\"``,\n``\"holiday_pre_num_days\"``, ``\"holiday_post_num_days\"``, ``\"start_year\"``, ``\"end_year\"`` and ``\"holidays_prior_scale\"``.\nThe algorithm automatically looks up holidays in ``\"holiday_lookup_countries\"``.\nFor ``\"PROPHET\"`` template, it automatically looks up holidays between 2015 and 2030 with their\nplus/minus 2 days. The holiday prior scale is 10.\n\nThe Prophet model does not support autoregression, so the ``autoregression`` value should be empty.\n\nThe ``regressors`` parameter recognizes the key ``\"add_regressor_dict\"``.\nFor more details about regressors, see\n`Regressors <../../pages/model_components/0700_regressors.html#prophet>`_.\nFor ``\"PROPHET\"`` template, no regressors are included.\n\nThe ``uncertainty`` parameter recognizes the key ``\"mcmc_samples\"`` and ``\"uncertainty_samples\"``.\nFor more details about uncertainty, see `Uncertainty <../../pages/model_components/0900_uncertainty.html#prophet>`_.\nFor ``\"PROPHET\"`` template, the default value is to sample 1000 uncertainty samples.\n\nThe Prophet model does not have any specific value in the ``custom`` parameter.\n\n"
      ]
    },
    {
      "cell_type": "markdown",
      "metadata": {},
      "source": [
        "## Extra Notes\n- All templates take the ``hyperparameter_override`` key in their\n  ``ModelComponentsParam`` class, which is used to define extra grid search options.\n  For details, see :doc:`/gallery/quickstart/03_benchmark/0100_grid_search`.\n\n- To specify a string as a template name, it is recommended to use the\n  `~greykite.framework.templates.model_templates.ModelTemplateEnum`\n  to avoid typos. For example,\n\n"
      ]
    },
    {
      "cell_type": "code",
      "execution_count": null,
      "metadata": {
        "collapsed": false
      },
      "outputs": [],
      "source": [
        "silverkite_template = ModelTemplateEnum.SILVERKITE.name\nsilverkite_templates = [\n    ModelTemplateEnum.SILVERKITE_EMPTY.name,\n    ModelTemplateEnum.SILVERKITE_DAILY_90.name\n]\nprophet_template = ModelTemplateEnum.PROPHET.name"
      ]
    }
  ],
  "metadata": {
    "kernelspec": {
      "display_name": "Python 3",
      "language": "python",
      "name": "python3"
    },
    "language_info": {
      "codemirror_mode": {
        "name": "ipython",
        "version": 3
      },
      "file_extension": ".py",
      "mimetype": "text/x-python",
      "name": "python",
      "nbconvert_exporter": "python",
      "pygments_lexer": "ipython3",
      "version": "3.7.10"
    }
  },
  "nbformat": 4,
  "nbformat_minor": 0
}