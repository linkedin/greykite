{
  "cells": [
    {
      "cell_type": "code",
      "execution_count": null,
      "metadata": {
        "collapsed": false
      },
      "outputs": [],
      "source": [
        "%matplotlib inline"
      ]
    },
    {
      "cell_type": "markdown",
      "metadata": {},
      "source": [
        "\n# Forecast One By One\n\nA useful feature for short-term forecast in Silverkite model family is autoregression.\nSilverkite has an \"auto\" option for autoregression,\nwhich automatically selects the autoregression lag orders based on the data frequency and forecast horizons.\nOne important rule of this \"auto\" option is that the minimum order of autoregression terms\nis at least the forecast horizon.\nFor example, if the forecast horizon is 3 on a daily model,\nthe minimum order of autoregression is set to 3.\nThe \"auto\" option won't have an order of 2 in this case,\nbecause the 3rd day forecast will need the 1st day's observation,\nwhich isn't available at the current time.\nAlthough the model can make predictions with an autoregression lag order less than the forecast horizon\nvia simulations, it takes longer time to run and is not the preferred behavior in the \"auto\" option.\n\nHowever, in many cases, using smaller autoregression lag orders can give more accurate forecast results.\nWe observe that the only barrier of using an autoregression term of order 2 in the 3-day forecast model\nis the 3rd day, while we can use it freely for the first 2 days.\nSimilarly, we are able to use an autoregression term of order 1 for the 1st day.\nIn a 3 day forecast, if the accuracy of all 3 days are important, then replacing the first 2 days' models\nwith shorter autoregression lag orders can improve the accuracy.\nThe forecast-one-by-one algorithm is designed in this context.\n\nThe observations above together bring the idea of the forecast-one-by-one algorithm.\nThe algorithm allows fitting multiple models with the \"auto\" option in autoregression,\nwhen one is forecasting with a forecast horizon longer than 1.\nFor each model, the \"auto\" option for autoregression selects the smallest\navailable autoregression lag order and predicts for the corresponding forecast steps,\nthus improving the forecast accuracy for the early steps.\n\nIn this example, we will cover how to activate the forecast-one-by-one approach\nvia the ``ForecastConfig`` and the ``Forecaster`` classes.\nFor a detailed API reference, please see the\n`~greykite.framework.templates.autogen.forecast_config.ForecastConfig` and\n`~greykite.sklearn.estimator.one_by_one_estimator.OneByOneEstimator` classes.\n"
      ]
    },
    {
      "cell_type": "code",
      "execution_count": null,
      "metadata": {
        "collapsed": false
      },
      "outputs": [],
      "source": [
        "import warnings\n\nwarnings.filterwarnings(\"ignore\")\n\nimport plotly\nfrom greykite.common.data_loader import DataLoader\nfrom greykite.framework.templates.autogen.forecast_config import ForecastConfig\nfrom greykite.framework.templates.autogen.forecast_config import ModelComponentsParam\nfrom greykite.framework.templates.forecaster import Forecaster\nfrom greykite.framework.templates.model_templates import ModelTemplateEnum\nfrom greykite.framework.utils.result_summary import summarize_grid_search_results\n\n# Loads dataset into pandas DataFrame\ndl = DataLoader()\ndf = dl.load_peyton_manning()"
      ]
    },
    {
      "cell_type": "markdown",
      "metadata": {},
      "source": [
        "## The forecast-one-by-one option\n\nThe forecast-one-by-one option is specified through the ``forecast_one_by_one`` parameter\nin ``ForecastConfig``.\n\n"
      ]
    },
    {
      "cell_type": "code",
      "execution_count": null,
      "metadata": {
        "collapsed": false
      },
      "outputs": [],
      "source": [
        "config = ForecastConfig(\n    model_template=ModelTemplateEnum.SILVERKITE.name,\n    forecast_horizon=3,\n    model_components_param=ModelComponentsParam(\n        autoregression=dict(autoreg_dict=\"auto\")\n    ),\n    forecast_one_by_one=True\n)"
      ]
    },
    {
      "cell_type": "markdown",
      "metadata": {},
      "source": [
        "The ``forecast_one_by_one`` parameter can be specified in the following ways\n\n  - **``True``**: every forecast step will be a separate model.\n    The number of models equals the forecast horizon.\n    In this example, 3 models will be fit with the 3 forecast steps.\n  - **``False``**: the forecast-one-by-one method is turned off.\n    This is the default behavior and a single model is used for all forecast steps.\n  - **A list of integers**: each integer corresponds to a model,\n    and it is the number of steps. For example, in a 7 day forecast,\n    specifying ``forecast_one_by_one=[1, 2, 4]`` will result in 3 models.\n    The first model forecasts the 1st day with forecast horizon 1;\n    The second model forecasts the 2nd - 3rd days with forecast horizon 3;\n    The third model forecasts the 4th - 7th days with forecast horizon 7.\n    In this case, the sum of the list entries must equal the forecast horizon.\n  - **an integer ``n``**: every model will account for n steps. The last model\n    will account for the rest <n steps. For example in a 7 day forecast,\n    specifying ``forecast_one_by_one=2`` will result in 4 models,\n    which is equivalent to ``forecast_one_by_one=[2, 2, 2, 1]``.\n\n<div class=\"alert alert-info\"><h4>Note</h4><p>``forecast_one_by_one`` is activated only when there are parameters in\n  the model that depend on the forecast horizon. Currently the only parameter\n  that depends on forecast horizon is ``autoreg_dict=\"auto\"``. If you do not specify\n  ``autoreg_dict=\"auto\"``, the ``forecast_one_by_one`` parameter will be ignored.</p></div>\n\n<div class=\"alert alert-info\"><h4>Note</h4><p>Forecast-one-by-one fits multiple models to increase accuracy,\n  which may cause the training time to increase linearly with the number of models.\n  Please make sure your ``forecast_one_by_one`` parameter and forecast horizon\n  result in a reasonable number of models.</p></div>\n\nNext, let's run the model and look at the result.\n\n"
      ]
    },
    {
      "cell_type": "code",
      "execution_count": null,
      "metadata": {
        "collapsed": false
      },
      "outputs": [],
      "source": [
        "# Runs the forecast\nforecaster = Forecaster()\nresult = forecaster.run_forecast_config(\n    df=df.iloc[-365:].reset_index(drop=True),  # Uses less data to speed up this example.\n    config=config\n)"
      ]
    },
    {
      "cell_type": "markdown",
      "metadata": {},
      "source": [
        "You may see a few warnings like \"The future x length is 0,\nwhich doesn't match the model forecast horizon 3,\nusing only the model with the longest forecast horizon for prediction.\"\nThis is an expected behavior when calculating the training errors.\nBecause the models are mapped to the forecast period only,\nbut not to the training period. Therefore, only the last model is used to\nget the fitted values on the training period.\nYou don't need to worry about it.\n\nEverything on the ``forecast_result`` level is the same as not activating forecast-one-by-one.\nFor example, we can view the cross-validation results in the same way.\n\n"
      ]
    },
    {
      "cell_type": "code",
      "execution_count": null,
      "metadata": {
        "collapsed": false
      },
      "outputs": [],
      "source": [
        "# Summarizes the CV results\ncv_results = summarize_grid_search_results(\n    grid_search=result.grid_search,\n    decimals=1,\n    # The below saves space in the printed output. Remove to show all available metrics and columns.\n    cv_report_metrics=None,\n    column_order=[\"rank\", \"mean_test\", \"split_test\", \"mean_train\", \"split_train\", \"mean_fit_time\", \"mean_score_time\", \"params\"])\ncv_results[\"params\"] = cv_results[\"params\"].astype(str)\ncv_results.set_index(\"params\", drop=True, inplace=True)\ncv_results.transpose()"
      ]
    },
    {
      "cell_type": "markdown",
      "metadata": {},
      "source": [
        "When you need to access estimator level attributes, for example, model summary or component plots,\nthe returned result will be a list of the original type, because we fit multiple models.\nThe model summary list can be accessed in the same way and you can use index to get the model summary\nfor a single model.\n\n"
      ]
    },
    {
      "cell_type": "code",
      "execution_count": null,
      "metadata": {
        "collapsed": false
      },
      "outputs": [],
      "source": [
        "# Gets the model summary list\none_by_one_estimator = result.model[-1]\nsummaries = one_by_one_estimator.summary()\n# Prints the model summary for 1st model only\nprint(summaries[0])"
      ]
    },
    {
      "cell_type": "markdown",
      "metadata": {},
      "source": [
        "We can access the component plots in a similar way.\n\n"
      ]
    },
    {
      "cell_type": "code",
      "execution_count": null,
      "metadata": {
        "collapsed": false
      },
      "outputs": [],
      "source": [
        "# Gets the fig list\nfigs = one_by_one_estimator.plot_components()\n# Shows the component plot for 1st model only\nplotly.io.show(figs[0])"
      ]
    }
  ],
  "metadata": {
    "kernelspec": {
      "display_name": "Python 3",
      "language": "python",
      "name": "python3"
    },
    "language_info": {
      "codemirror_mode": {
        "name": "ipython",
        "version": 3
      },
      "file_extension": ".py",
      "mimetype": "text/x-python",
      "name": "python",
      "nbconvert_exporter": "python",
      "pygments_lexer": "ipython3",
      "version": "3.7.10"
    }
  },
  "nbformat": 4,
  "nbformat_minor": 0
}