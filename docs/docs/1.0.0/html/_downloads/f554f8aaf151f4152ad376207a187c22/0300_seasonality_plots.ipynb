{
  "cells": [
    {
      "cell_type": "code",
      "execution_count": null,
      "metadata": {
        "collapsed": false
      },
      "outputs": [],
      "source": [
        "%matplotlib inline"
      ]
    },
    {
      "cell_type": "markdown",
      "metadata": {},
      "source": [
        "\n# Seasonality Plots\n\nForecast models learn seasonal (cyclical) patterns and project them into the\nfuture. Understanding the seasonal patterns in your dataset\ncan help you create a better forecast. Your goal is to identify which\nseasonal patterns are most important to capture, and which should\nbe excluded from the model.\n\nThis tutorial explains how to identify the dominant seasonal patterns and\ncheck for interactions (e.g. daily seasonality that depends on day of week,\nor weekly seasonality increases in magnitude over time). Such interactions\nare important to model if they affect a large number of data points.\n\nWe use the Peyton Manning dataset as a running example.\n"
      ]
    },
    {
      "cell_type": "markdown",
      "metadata": {},
      "source": [
        "## Quick reference\nYou will learn how to use the function\n`~greykite.framework.input.univariate_time_series.UnivariateTimeSeries.plot_quantiles_and_overlays`\nin `~greykite.framework.input.univariate_time_series.UnivariateTimeSeries` to assess seasonal patterns.\n\nSteps to detect seasonality:\n\n#. Start with the longest seasonal cycles to see the big picture, then proceed to shorter cycles.\n   (yearly -> quarterly -> monthly -> weekly -> daily).\n#. For a given seasonality period:\n\n   a. First, check for seasonal effect over the entire timeseries (main effect).\n      Look for large variation that depends on the location in the cycle.\n      Pick the time feature for your seasonality cycle. See available time features at\n      `~greykite.common.features.timeseries_features.build_time_features_df`.\n\n        - for yearly: ``\"doy\"``, ``\"month_dom\"``, ``\"woy_dow\"``\n        - for quarterly: ``\"doq\"``\n        - for monthly ``\"dom\"``\n        - for weekly: ``\"str_dow\"``, ``\"dow_grouped\"``, ``\"is_weekend\"``, ``\"woy_dow\"``\n        - for daily: ``\"hour\"``, ``\"tod\"``\n        - (\"do\" = \"day of\", \"to\" = \"time of\")\n\n      .. code-block:: python\n\n        fig = ts.plot_quantiles_and_overlays(\n            groupby_time_feature=\"doy\",  # day of year (yearly seasonality)\n            show_mean=True,              # shows mean on the plot\n            show_quantiles=[0.1, 0.9],   # shows quantiles [0.1, 0.9] on the plot\n            xlabel=\"day of year\",\n            ylabel=ts.original_value_col,\n            title=\"yearly seasonality\",\n        )\n\n   b. Then, check for interactions by adding overlays and centering the values.\n      These may be present even when there is no main effect::\n\n        # random sample of individual overlays (check for clusters with similar patterns)\n        fig = ts.plot_quantiles_and_overlays(\n            groupby_time_feature=\"str_dow\",  # day of week (weekly seasonality)\n            show_mean=True,\n            show_quantiles=False,\n            # shows every 5th overlay. (accepts a list of indices/names, a number to sample, or `True` to show all)\n            show_overlays=np.arange(0, ts.df.shape[0], 5),\n            center_values=True,\n            # each overlay contains 28 observations (4 weeks)\n            overlay_label_sliding_window_size=28,\n            xlabel=\"day of week\",\n            ylabel=ts.original_value_col,\n            title=\"weekly seasonality with selected 28d averages\",\n        )\n        # interactions with periodic time feature\n        fig = ts.plot_quantiles_and_overlays(\n            groupby_time_feature=\"str_dow\",\n            show_mean=True,\n            show_quantiles=False,\n            show_overlays=True,\n            center_values=True,\n            # splits overlays by month (try other features too)\n            overlay_label_time_feature=\"month\",\n            # optional overlay styling, passed to `plotly.graph_objects.Scatter`\n            overlay_style={\"line\": {\"width\": 1}, \"opacity\": 0.5},\n            xlabel=\"day of week\",\n            ylabel=ts.original_value_col,\n            title=\"weekly seasonality by month\",\n        )\n        # interactions with an event (holiday, etc.)\n        fig = ts.plot_quantiles_and_overlays(\n            groupby_time_feature=\"str_dow\",\n            show_mean=True,\n            show_quantiles=False,\n            show_overlays=True,\n            center_values=True,\n            # splits overlays by custom pd.Series value\n            overlay_label_custom_column=is_football_season,\n            overlay_style={\"line\": {\"width\": 1}, \"opacity\": 0.5},\n            # optional, how to aggregate values for each overlay (default=mean)\n            aggfunc=np.nanmean,\n            xlabel=\"day of week\",\n            ylabel=ts.original_value_col,\n            title=\"weekly seasonality:is_football_season interaction\",\n        )\n        # seasonality changepoints (option a): overlay against time (good for yearly/quarterly/monthly)\n        fig = ts.plot_quantiles_and_overlays(\n            groupby_time_feature=\"woy_dow\",  # yearly(+weekly) seasonality\n            show_mean=True,\n            show_quantiles=True,\n            show_overlays=True,\n            overlay_label_time_feature=\"year\",  # splits by time\n            overlay_style={\"line\": {\"width\": 1}, \"opacity\": 0.5},\n            center_values=True,\n            xlabel=\"weekofyear_dayofweek\",\n            ylabel=ts.original_value_col,\n            title=\"yearly and weekly seasonality for each year\",\n        )\n        # seasonality changepoints (option b): overlay by seasonality value (good for daily/weekly/monthly)\n        # see advanced version below, where the mean is removed.\n        fig = ts.plot_quantiles_and_overlays(\n            # The number of observations in each sliding window.\n            # Should contain a whole number of complete seasonality cycles, e.g. 24*7*k for k weekly seasonality cycles on hourly data.\n            groupby_sliding_window_size=7*13,  # x-axis, sliding windows with 13 weeks of daily observations.\n            show_mean=True,\n            show_quantiles=False,\n            show_overlays=True,\n            center_values=True,\n            # overlays by the seasonality of interest (e.g. \"hour\", \"str_dow\", \"dom\")\n            overlay_label_time_feature=\"str_dow\",\n            overlay_style={\"line\": {\"width\": 1}, \"opacity\": 0.5},\n            ylabel=ts.original_value_col,\n            title=\"daily averages over time (centered)\",\n        )\n\n#. For additional customization, fetch the dataframe for plotting via\n   `~greykite.framework.input.univariate_time_series.UnivariateTimeSeries.get_quantiles_and_overlays`,\n   compute additional stats as needed, and plot with\n   `~greykite.common.viz.timeseries_plotting.plot_multivariate`.\n   For example, to remove the mean effect in seasonality changepoints (option b)::\n\n       grouped_df = ts.get_quantiles_and_overlays(\n           groupby_sliding_window_size=7*13,  # accepts the same parameters as `plot_quantiles_and_overlays`\n           show_mean=True,\n           show_quantiles=False,\n           show_overlays=True,\n           center_values=False,  # note! does not center, to compute raw differences from the mean below\n           overlay_label_time_feature=\"str_dow\",\n       )\n       overlay_minus_mean = grouped_df[OVERLAY_COL_GROUP] - grouped_df[MEAN_COL_GROUP].values  # subtracts the mean\n       x_col = overlay_minus_mean.index.name\n       overlay_minus_mean.reset_index(inplace=True)  # `plot_multivariate` expects the x-value to be a column\n       fig = plot_multivariate(  # plots the deviation from the mean\n           df=overlay_minus_mean,\n           x_col=x_col,\n           ylabel=ts.original_value_col,\n           title=\"day of week effect over time\",\n       )\n\n\n#. The yearly seasonality plot can also be used to check for holiday effects. Click\n   and drag to zoom in on the dates of interest::\n\n      fig = ts.plot_quantiles_and_overlays(\n          groupby_time_feature=\"month_dom\",  # date on x-axis\n          show_mean=True,\n          show_quantiles=False,\n          show_overlays=True,\n          overlay_label_time_feature=\"year\",  # see the value for each year\n          overlay_style={\"line\": {\"width\": 1}, \"opacity\": 0.5},\n          center_values=True,\n          xlabel=\"day of year\",\n          ylabel=ts.original_value_col,\n          title=\"yearly seasonality for each year (centered)\",\n      )\n\n.. tip::\n  #. `~greykite.framework.input.univariate_time_series.UnivariateTimeSeries.plot_quantiles_and_overlays`\n     allows grouping or overlays by (1) a time feature, (2) a sliding window, or (3) a custom column.\n     See available time features at `~greykite.common.features.timeseries_features.build_time_features_df`.\n  #. You can customize the plot style. See\n     `~greykite.framework.input.univariate_time_series.UnivariateTimeSeries.plot_quantiles_and_overlays`\n     for details.\n\n## Load data\nTo start, let's plot the dataset. It contains daily observations between\n``2007-12-10`` and ``2016-01-20``.\n\n"
      ]
    },
    {
      "cell_type": "code",
      "execution_count": null,
      "metadata": {
        "collapsed": false
      },
      "outputs": [],
      "source": [
        "# necessary imports\nimport numpy as np\nimport plotly\n\nfrom greykite.framework.input.univariate_time_series import UnivariateTimeSeries\nfrom greykite.framework.constants import MEAN_COL_GROUP, OVERLAY_COL_GROUP\nfrom greykite.common.constants import TIME_COL\nfrom greykite.common.data_loader import DataLoader\nfrom greykite.common.viz.timeseries_plotting import add_groupby_column\nfrom greykite.common.viz.timeseries_plotting import plot_multivariate\n\n# Loads dataset into pandas DataFrame\ndl = DataLoader()\ndf = dl.load_peyton_manning()\ndf.rename(columns={\"y\": \"log(pageviews)\"}, inplace=True)  # uses a more informative name\n\n# plots dataset\nts = UnivariateTimeSeries()\nts.load_data(\n    df=df,\n    time_col=\"ts\",\n    value_col=\"log(pageviews)\",\n    freq=\"D\")\nfig = ts.plot()\nplotly.io.show(fig)"
      ]
    },
    {
      "cell_type": "markdown",
      "metadata": {},
      "source": [
        "## Yearly seasonality\nBecause the observations are at daily frequency,\nit is possible to see yearly, quarterly, monthly, and weekly seasonality.\nThe name of the seasonality refers to the length of one cycle. For example,\nyearly seasonality is a pattern that repeats once a year.\n\n.. tip::\n  It's helpful to start with the longest cycle to see the big picture.\n\nTo examine yearly seasonality, plot the average value by day of year.\n\nUse `~greykite.framework.input.univariate_time_series.UnivariateTimeSeries.plot_quantiles_and_overlays`\nwith ``show_mean=True`` and ``groupby_time_feature=\"doy\"`` (day of year).\n``groupby_time_feature`` accepts any time feature generated by\n`~greykite.common.features.timeseries_features.build_time_features_df`.\n\n"
      ]
    },
    {
      "cell_type": "code",
      "execution_count": null,
      "metadata": {
        "collapsed": false
      },
      "outputs": [],
      "source": [
        "fig = ts.plot_quantiles_and_overlays(\n    groupby_time_feature=\"doy\",  # day of year\n    show_mean=True,              # shows the mean\n    xlabel=\"day of year\",\n    ylabel=f\"mean of {ts.original_value_col}\",\n    title=\"yearly seasonality\",\n)\nplotly.io.show(fig)"
      ]
    },
    {
      "cell_type": "markdown",
      "metadata": {},
      "source": [
        "There is a varying, non-constant pattern over the year, which indicates\nthe presence of yearly seasonality. But the mean often does not reveal\nthe entire story.\n\nUse `~greykite.framework.input.univariate_time_series.UnivariateTimeSeries.plot_quantiles_and_overlays`\nto see the volatility. Set ``show_mean=True`` and ``show_quantiles=True`` to plot the mean with the 0.1 and\n0.9 quantiles.\n\n"
      ]
    },
    {
      "cell_type": "code",
      "execution_count": null,
      "metadata": {
        "collapsed": false
      },
      "outputs": [],
      "source": [
        "fig = ts.plot_quantiles_and_overlays(\n    groupby_time_feature=\"doy\",\n    show_mean=True,       # shows mean on the plot\n    show_quantiles=True,  # shows quantiles [0.1, 0.9] on the plot\n    xlabel=\"day of year\",\n    ylabel=ts.original_value_col,\n    title=\"yearly seasonality\",\n)\nplotly.io.show(fig)"
      ]
    },
    {
      "cell_type": "markdown",
      "metadata": {},
      "source": [
        "The day of year does explain a lot of the variation in ``log(pageviews)``. However, the wide quantiles\nindicate that a lot of variation is not explained by this variable alone. This includes variation from\ntrend, events, and other factors.\n\nYou can easily request additional quantiles for a better sense of the distribution.\nPass a list of the desired quantiles via ``show_quantiles``.\n\n"
      ]
    },
    {
      "cell_type": "code",
      "execution_count": null,
      "metadata": {
        "collapsed": false
      },
      "outputs": [],
      "source": [
        "fig = ts.plot_quantiles_and_overlays(\n    groupby_time_feature=\"doy\",\n    show_mean=True,\n    show_quantiles=[0.1, 0.25, 0.75, 0.9],  # specifies quantiles to include\n    xlabel=\"day of year\",\n    ylabel=ts.original_value_col,\n    title=\"yearly seasonality\",\n)\nplotly.io.show(fig)"
      ]
    },
    {
      "cell_type": "markdown",
      "metadata": {},
      "source": [
        "Surprisingly, the 75th percentile is below the mean between days 67 and 81.\n\n.. tip::\n  Click and drag to zoom in on the plot.\n  Reset the view by double clicking inside the plot.\n\nTo better understand what causes the volatility, we can use overlays to see the\nseasonality pattern split by a dimension of interest. Let's plot one line\nfor each year to see if the pattern is consistent over time. Specify\n``overlay_label_time_feature=True`` and\n``overlay_label_time_feature=\"year\"`` to request overlays, where one line is shown for\neach year.\n\nWe also provide plotly styling options for the overlay lines via ``overlay_style`` (optional).\nFinally, we group by \"month_dom\" instead of \"doy\" on the x-axis to make it easier\nread the dates in \"MM/DD\" format.\n\n"
      ]
    },
    {
      "cell_type": "code",
      "execution_count": null,
      "metadata": {
        "collapsed": false
      },
      "outputs": [],
      "source": [
        "fig = ts.plot_quantiles_and_overlays(\n    groupby_time_feature=\"month_dom\",   # groups by \"MM/DD\", e.g. 03/20 for March 20th.\n    show_mean=True,\n    show_quantiles=False,\n    show_overlays=True,                 # shows overlays, as configured by `overlay_label_time_feature`\n    overlay_label_time_feature=\"year\",  # splits by \"year\"\n    # optional overlay styling, passed to `plotly.graph_objects.Scatter`\n    overlay_style={\"line\": {\"width\": 1}, \"opacity\": 0.5},\n    xlabel=\"day of year\",\n    ylabel=ts.original_value_col,\n    title=\"yearly seasonality for each year\",\n)\nplotly.io.show(fig)"
      ]
    },
    {
      "cell_type": "markdown",
      "metadata": {},
      "source": [
        "Before we look too carefully, to isolate the effect against the selected groupby\nfeature, it can be helpful to center the overlays. This removes the effect of trend and\nlonger seasonal cycles from the overlays. Each line is shifted so that the average effect\nover a cycle is zero. Quantiles and mean are shifted together, centering the mean at 0,\nto maintain their relative positions; note that quantiles are still computed on the original\nuncentered distribution.\n\n.. tip::\n  Always start with an uncentered plot with mean and quantiles to check the magnitude\n  of the seasonal effect relative to the timeseries' values. Then, center the plot and\n  use overlays to better understand the effect.\n\nThe plot below is the same plot after centering with ``center_values=True``.\n\n"
      ]
    },
    {
      "cell_type": "code",
      "execution_count": null,
      "metadata": {
        "collapsed": false
      },
      "outputs": [],
      "source": [
        "fig = ts.plot_quantiles_and_overlays(\n    groupby_time_feature=\"month_dom\",\n    show_mean=True,\n    show_quantiles=False,\n    show_overlays=True,\n    overlay_label_time_feature=\"year\",\n    overlay_style={\"line\": {\"width\": 1}, \"opacity\": 0.5},\n    center_values=True,\n    xlabel=\"day of year\",\n    ylabel=ts.original_value_col,\n    title=\"yearly seasonality for each year (centered)\",\n)\nplotly.io.show(fig)"
      ]
    },
    {
      "cell_type": "markdown",
      "metadata": {},
      "source": [
        "This plot reveals some new insights:\n\n  1. Yearly seasonality is actually weak in this dataset; the line is mostly constant\n     above/below 0 depending on whether the date is during the football season, which\n     runs between September and early February.\n  2. The volatility is larger during the football season, and smaller otherwise.\n  3. The volatility in early March can be explained by a single spike in 2012.\n     Similarly, there is an anomaly in June and December.\n\n<div class=\"alert alert-info\"><h4>Note</h4><p>The above plot can also be used to assess the effect of yearly holidays. Use\n  `~greykite.framework.input.univariate_time_series.UnivariateTimeSeries.plot_quantiles_and_overlays`\n  with ``overlay_label_time_feature=\"year\"``, and ``groupby_time_feature`` set to:\n\n    - ``\"doy\"`` (day of year),\n    - ``\"month_dom\"`` (month + day of month),\n    - or ``\"woy_dow\"`` (week of year + day of week).\n    - (to align the holiday to the groupby value across years).\n\n  Click and drag to zoom in on a particular date range, to see the holiday's\n  effect in each year.</p></div>\n\nThese insights provide hints for forecasting:\n\n  - A feature indicating whether a particular date is in the football season\n    or off-season (potentially split by regular season vs playoffs), is a simple\n    way to capture most of the yearly variation.\n  - Because the season starts on a different calendar day each year, consider adding\n    add a feature for \"days till start of season\" and \"days since end of season\" to capture\n    the on-ramp and down-ramp.\n  - Check the anomalies to see if they should be considered outliers; if so,\n    remove them from the training data to avoid affecting future predictions.\n\nWith the insight that the values closely depend on the football season,\nand knowing that football games are played on particular days of the week,\nstarting on a particular week of the year, we may expect yearly seasonal patterns\nto depend more on \"week of year\" + \"day of week\" than on the calendar date. (The\nsame calendar date can fall on a different day of the week, depending on the year.)\nTo check this, simply group by ``woy_dow``. This variable is encoded as\n{week of year}_{day of week}, e.g. 04_01 for Monday of 4th week.\n\nThis is a different way to label each day of the year that captures both\nyearly and weekly seasonality at the same time.\n\n"
      ]
    },
    {
      "cell_type": "code",
      "execution_count": null,
      "metadata": {
        "collapsed": false
      },
      "outputs": [],
      "source": [
        "fig = ts.plot_quantiles_and_overlays(\n    groupby_time_feature=\"woy_dow\",  # week of year and day of week\n    show_mean=True,\n    show_quantiles=True,\n    show_overlays=True,\n    overlay_label_time_feature=\"year\",\n    overlay_style={\"line\": {\"width\": 1}, \"opacity\": 0.5},\n    center_values=True,\n    xlabel=\"weekofyear_dayofweek\",\n    ylabel=ts.original_value_col,\n    title=\"yearly and weekly seasonality for each year\",\n)\nplotly.io.show(fig)"
      ]
    },
    {
      "cell_type": "markdown",
      "metadata": {},
      "source": [
        "Notice a much stronger relationship than before: the mean varies more\nwith the x-axis value, with tigher quantiles, so ``woy_dow`` explains more\nvariability in the time series. There is a different weekly pattern during and outside\nthe football season, with increasing volatility toward the playoffs (end of season).\nNext, let's explore the weekly patterns in more detail.\n\n## Weekly seasonality\nSo far, we learned that the main seasonal effects depend on day of week and whether the day\nis during the football season.\n\nTo check overall weekly seasonality, group by day of week (``str_dow``). We\nalso set ``overlay_label_sliding_window_size=7`` and ``show_overlays=20`` to\nplot the values for 20 randomly selected weeks from the dataset. The \"size\" parameter indicates\nthe number of sequential observations contained in each overlay (7=1 week). In the legend, each\noverlay is labeled by the first date in the overlay's sliding window.\n\n"
      ]
    },
    {
      "cell_type": "code",
      "execution_count": null,
      "metadata": {
        "collapsed": false
      },
      "outputs": [],
      "source": [
        "fig = ts.plot_quantiles_and_overlays(\n    groupby_time_feature=\"str_dow\",\n    show_mean=True,\n    show_quantiles=True,\n    show_overlays=20,  # randomly selects up to 20 overlays\n    overlay_label_sliding_window_size=7,  # each overlay is a single cycle (week)\n    center_values=False,\n    xlabel=\"day of week\",\n    ylabel=ts.original_value_col,\n    title=\"weekly seasonality with overlays\"\n)\nplotly.io.show(fig)"
      ]
    },
    {
      "cell_type": "markdown",
      "metadata": {},
      "source": [
        "In the above plot, the effect doesn't vary much by day of week,\nbut quantiles are large. Such a plot indicates one of two possibilities:\n\n  1) there is no seasonal pattern for this period (cycle length)\n  2) there is a seasonal pattern for this period, but it\n     is not consistent across the entire timeseries.\n\n(2) is possible when seasonality depends on an interaction\nterm. It may vary by a time dimension, change during an event,\nor evolve over time. In this case, it could be useful to model\nthe seasonality conditional on the parameter when forecasting\n(interaction terms).\n\nFor the Peyton Manning dataset, we know there is weekly seasonality\nduring the football season. We suspect the effect is washed out in the\nabove plot, because it averages weekly seasonality during the season\nand off-season.\n\nSuppose we did not already have this insight. How could we detect the presence\nof weekly seasonality conditional on interactions?\n\n  - Overlays of individual cycles can suggest the presence of an interaction effect.\n  - Look for clusters of overlay lines with similar (and not flat) patterns.\n    Try to identify what they have in common.\n\nThe previous plot showed a random sample of 20 overlays. The plot below\nselects every 5th overlay, evenly spaced through time. Each overlay is\nthe average of a 28 day sliding window (four cycles) to smooth out volatility\n(``overlay_label_sliding_window_size=28``).\nThere is a trade off when setting sliding window size:\n\n  - Smaller window = see unique effects, but adds noise\n  - Larger window = smooths out noise, but values regress toward the mean and may hide effects.\n\nGiven this tradeoff, try a few window sizes to see if any patterns emerge.\n\n"
      ]
    },
    {
      "cell_type": "code",
      "execution_count": null,
      "metadata": {
        "collapsed": false
      },
      "outputs": [],
      "source": [
        "# Selects every 5th overlay. ``which_overlays`` is a list of\n# allowed overlays. Each overlay spans 28 days, so every 5th overlay\n# allows selection of different months across years.\nwhich_overlays = np.arange(0, ts.df.shape[0], 5)  # ``ts.df.shape[0]`` is an upper bound on the number of overlays\noverlay_style = {  # this is the default style\n    \"opacity\": 0.5,\n    \"line\": dict(\n        width=1,\n        color=\"#B3B3B3\",  # light gray\n        dash=\"solid\"),\n    \"legendgroup\": OVERLAY_COL_GROUP}\nfig = ts.plot_quantiles_and_overlays(\n    groupby_time_feature=\"str_dow\",\n    show_mean=True,\n    show_quantiles=False,\n    show_overlays=which_overlays,  # indices to show. Also accepts a list of strings (overlay names).\n    center_values=True,\n    overlay_label_sliding_window_size=28,  # each overlay contains 28 observations (4 weeks)\n    overlay_style=overlay_style,\n    xlabel=\"day of week\",\n    ylabel=ts.original_value_col,\n    title=\"weekly seasonality with 28d overlays\",\n)\nplotly.io.show(fig)"
      ]
    },
    {
      "cell_type": "markdown",
      "metadata": {},
      "source": [
        "In the above plot, some lines are close together above/below the mean\non Monday, Saturday, and Sunday, suggesting the presence of\nan interaction pattern. In the next section, we explain how to\ndetect such interactions.\n\n## Checking for interactions\nThe same function, `~greykite.framework.input.univariate_time_series.UnivariateTimeSeries.plot_quantiles_and_overlays`,\ncan be used to check the three possible interaction factors:\n\n  1) interaction with time dimension,\n  2) interaction with events,\n  3) seasonality changepoints\n\n### 1) Time dimension interaction\nIt is common for a seasonality pattern to depend on a time dimension.\nFor example, daily seasonality may differ by day of week, or\nweekly seasonality may change around year end. The seasonality\nchanges periodically with a time feature.\n\nTo check this, use ``overlay_label_time_feature``. We check whether\nweekly seasonality interacts with month, by setting\n``overlay_label_time_feature=\"month\"``.\n\n"
      ]
    },
    {
      "cell_type": "code",
      "execution_count": null,
      "metadata": {
        "collapsed": false
      },
      "outputs": [],
      "source": [
        "fig = ts.plot_quantiles_and_overlays(\n    groupby_time_feature=\"str_dow\",\n    show_mean=True,\n    show_quantiles=False,\n    show_overlays=True,\n    center_values=True,\n    overlay_label_time_feature=\"month\",  # splits overlays by month\n    overlay_style={\"line\": {\"width\": 1}, \"opacity\": 0.5},\n    xlabel=\"day of week\",\n    ylabel=ts.original_value_col,\n    title=\"weekly seasonality by month\",\n)\nplotly.io.show(fig)"
      ]
    },
    {
      "cell_type": "markdown",
      "metadata": {},
      "source": [
        "There is a clear interaction -- notice two clusters of lines with\ndifferent weekly seasonality patterns.\n(When forecasting, we do need to pay special attention to February,\nwhose line is in between the two clusters. This is because it has\none weekend in the football season and one weekend outside it.\nThe month interaction alone is too coarse to reflect this.)\n\n### 2) Event/holiday interaction\nIt is also common to have yearly seasonality that interacts with\nan event. For example, for hourly traffic data, a holiday can affect\nthe daily seasonality as rush hour traffic is reduced.\nIn our dataset, the football season may affect the weekly\nseasonality.\n\n<div class=\"alert alert-info\"><h4>Note</h4><p>Both ``events`` and ``time dimensions`` occur at known times in the future;\n  the difference is that events require external knowledge about when they\n  occur, whereas time dimensions can be derived directly from\n  the date itself, without any external knowledge.\n\n  Our library contains information about the dates of common holidays,\n  but you will need to supply information about other events if desired.</p></div>\n\nYou can pass a custom `pandas.Series` to the plotting function\nto define overlays. The series assigns a label to each row, and\nmust have the same length as your input data.\n\nIn the code below, we create two overlays using\na (rough) indicator for ``is_football_season``.\nWe used\n`~greykite.common.viz.timeseries_plotting.add_groupby_column`\nto get the derived time feature used to define this indicator.\nSee the function's documentation for details.\n\n"
      ]
    },
    {
      "cell_type": "code",
      "execution_count": null,
      "metadata": {
        "collapsed": false
      },
      "outputs": [],
      "source": [
        "# Defines `is_football_season` by \"week of year\",\n# using `add_groupby_column` to get the \"week of year\" time feature.\ndf_week_of_year = add_groupby_column(\n    df=ts.df,\n    time_col=TIME_COL,           # The time column in ts.df is always TIME_COL\n    groupby_time_feature=\"woy\")  # Computes \"week of year\" based on the time column\nadded_column = df_week_of_year[\"groupby_col\"]\nweek_of_year = df_week_of_year[\"df\"][added_column]\nis_football_season = (week_of_year <= 6) | (week_of_year >= 36)  # rough approximation\nfig = ts.plot_quantiles_and_overlays(\n    groupby_time_feature=\"str_dow\",\n    show_mean=True,\n    show_quantiles=False,\n    show_overlays=True,\n    center_values=True,\n    overlay_label_custom_column=is_football_season,  # splits overlays by `is_football_season` value\n    overlay_style={\"line\": {\"width\": 1}, \"opacity\": 0.5},\n    aggfunc=np.nanmean,  # how to aggregate values for each overlay (default=mean)\n    xlabel=\"week of year\",\n    ylabel=ts.original_value_col,\n    title=\"weekly seasonality:is_football_season interaction\",\n)\nplotly.io.show(fig)"
      ]
    },
    {
      "cell_type": "markdown",
      "metadata": {},
      "source": [
        "``is_football_season`` is able to distinguish the two weekly seasonality\npatterns identified by previous plots. There is strong weekly seasonality\nduring the football season, but not outside it. Forecasts that use weekly\nseasonality should account for this important interaction.\n\n### 3) Seasonality changepoint\nLastly, we check if seasonality changes over time.\nFor example, the seasonality may increase or decrease\nin magnitude, or its shape may change.\n\nFor this, use seasonality changepoint detection.\nSee :doc:`/gallery/quickstart/01_exploration/0100_changepoint_detection`\nfor details.\n\nPlots can provide additional understanding to tune\nthe parameters for changepoint detection.\n\nLet's plot the mean value by \"day of week\" over time. There will be one\nline for Mondays, one for Tuesdays, etc. We are looking for a change\nin the distribution of the values around the mean; this could indicate,\nfor example, that the value on Mondays becomes a smaller % of the weekly\ntotal over time.\n\nUnlike before, notice that day of week is now the `overlay` feature,\nand we group by sliding windows of 91 observations each. The x-axis is\nindexed by the start of each window. You can adjust the window size\nas you'd like; as before, larger windows smooth out noise, but if the\nwindow is too large, it may mask meaningful changes.\n\n"
      ]
    },
    {
      "cell_type": "code",
      "execution_count": null,
      "metadata": {
        "collapsed": false
      },
      "outputs": [],
      "source": [
        "fig = ts.plot_quantiles_and_overlays(\n    groupby_sliding_window_size=7*13,  # x-axis, sliding windows with 91 days (13 weeks) each\n    show_mean=True,\n    show_quantiles=False,\n    show_overlays=True,\n    center_values=True,\n    overlay_label_time_feature=\"str_dow\",  # overlays by the seasonality of interest\n    overlay_style={\"line\": {\"width\": 1}, \"opacity\": 0.5},\n    ylabel=ts.original_value_col,\n    title=\"daily averages over time (centered)\",\n)\nplotly.io.show(fig)"
      ]
    },
    {
      "cell_type": "markdown",
      "metadata": {},
      "source": [
        "This plot is hard to assess because of mean changes\nover time. It would be more clear to see if relative offset\nfrom the mean changes over time.\n\nTo do this, get the raw daily averages using\n`~greykite.framework.input.univariate_time_series.UnivariateTimeSeries.get_quantiles_and_overlays`,\nsubtract the mean, and plot the result with\n`~greykite.common.viz.timeseries_plotting.plot_multivariate`.\n\n"
      ]
    },
    {
      "cell_type": "code",
      "execution_count": null,
      "metadata": {
        "collapsed": false
      },
      "outputs": [],
      "source": [
        "grouped_df = ts.get_quantiles_and_overlays(\n    groupby_sliding_window_size=7*13,  # accepts the same parameters as `plot_quantiles_and_overlays`\n    show_mean=True,\n    show_quantiles=False,\n    show_overlays=True,\n    center_values=False,  # note! does not center, to compute raw differences from the mean below\n    overlay_label_time_feature=\"str_dow\",\n)\noverlay_minus_mean = grouped_df[OVERLAY_COL_GROUP] - grouped_df[MEAN_COL_GROUP].values  # subtracts the mean\nx_col = overlay_minus_mean.index.name\noverlay_minus_mean.reset_index(inplace=True)  # `plot_multivariate` expects the x-value to be a column\nfig = plot_multivariate(  # plots the deviation from the mean\n    df=overlay_minus_mean,\n    x_col=x_col,\n    ylabel=ts.original_value_col,\n    title=\"day of week effect over time\")\nplotly.io.show(fig)"
      ]
    },
    {
      "cell_type": "markdown",
      "metadata": {},
      "source": [
        "The pattern looks fairly stable until Nov 2013, when Monday\nfar surpasses Sunday as the weekly peak. The relative values on Monday\nand Tuesday increase, and the relative values on Saturday and Sunday decline.\nThus, it may be useful to include a seasonality changepoint around\nthat time.\n\n.. tip::\n  You can interact with the plot to focus on a particular day\n  by double clicking its name in the legend. Double click again\n  to unselect, or single click to show/hide a single series.\n\n## Quarterly and monthly seasonality\nFinally, let's check quarterly and monthly seasonality.\n\nQuarterly seasonality is weak relative to the size of the quantiles.\nThe overlays do not suggest any clear interaction effects.\nIt is likely not useful for a forecast model.\n(Remember to check the plot with ``center_values=False``\nas well, to better assess the magnitude of the effect.)\n\n"
      ]
    },
    {
      "cell_type": "code",
      "execution_count": null,
      "metadata": {
        "collapsed": false
      },
      "outputs": [],
      "source": [
        "fig = ts.plot_quantiles_and_overlays(\n    groupby_time_feature=\"doq\",  # day of quarter\n    show_mean=True,\n    show_quantiles=True,\n    show_overlays=20,  # randomly selects up to 20 overlays\n    # No explicit overlay feature. Each overlay is a single cycle (quarter)\n    center_values=True,\n    xlabel=\"day of quarter\",\n    ylabel=ts.original_value_col,\n    title=\"quarterly seasonality\",\n)\nplotly.io.show(fig)"
      ]
    },
    {
      "cell_type": "markdown",
      "metadata": {},
      "source": [
        "Monthly seasonality is weak relative to the size of the quantiles.\nThe overlays do not suggest any clear interaction effects.\nIt is likely not useful for a forecast model.\n(Remember to check the plot with ``center_values=False``\nas well, to better assess the magnitude of the effect.)\n\n"
      ]
    },
    {
      "cell_type": "code",
      "execution_count": null,
      "metadata": {
        "collapsed": false
      },
      "outputs": [],
      "source": [
        "fig = ts.plot_quantiles_and_overlays(\n    groupby_time_feature=\"dom\",\n    show_mean=True,\n    show_quantiles=True,\n    show_overlays=20,  # randomly selects up to 20 overlays\n    # No explicit overlay feature. Each overlay is a single cycle (month)\n    center_values=True,\n    xlabel=\"day of month\",\n    ylabel=ts.original_value_col,\n    title=\"monthly seasonality\",\n)\nplotly.io.show(fig)"
      ]
    },
    {
      "cell_type": "markdown",
      "metadata": {},
      "source": [
        "## How to forecast with this information\nOur goal was to identify seasonal patterns in the dataset to create\na better forecast.\n\nWe learned that a good forecast model must model dates during the\nfootball season and off-season differently. At a minimum, both the\nmean value and weekly seasonality should be allowed to vary depending\non this ``is_football_season`` variable.\n\nTo accomplish this, the following approaches could be considered, from least\nto most complex:\n\n    1. ``is_football_season*weekly_seasonality`` interaction\n    2. ``month*weekly_seasonality + february_week_num*weekly_seasonality`` interaction\n    3. ``woy_dow`` effect\n\nThe first option is the most basic. The second allows capturing month-specific,\nweekly seasonality patterns, with special attention given to February, which\nfalls both inside and outside the football season. Each week is allowed to\nhave a different weekly seasonality. february_week_num is a categorical variable\nindicating the week of February (1, 2, 3, 4). The last option model every day\nof the year as a separate variable. This is unlikely to work well because it\nhas too many parameters for the amount of data.\n\n<div class=\"alert alert-info\"><h4>Note</h4><p>Appropriately increasing model complexity can improve the model's ability\n  to capture meaningful variation. However, unnecessary complexity adds variance to\n  the forecast due to estimation noise. A sparser model can better predict the\n  future by making more efficient use of the data, as long as it captures the underlying\n  dynamics. Proper cross validation and backtesting can be used to pick the best model.\n\n  For example, while ``woy_dow`` enables modeling each day of year separately, doing so\n  is likely to overfit the training data. Typically, weekly patterns should be modeled with\n  weekly seasonality, rather than using yearly seasonality to model shorter\n  cyclical patterns.</p></div>\n\nTo capture other seasonal effects, the following model components can be added:\n\n    a) ``yearly_seasonality`` to capture weak yearly seasonality\n    b) ``season_start`` and ``season_end`` events to capture start and end of season effect\n    c) ``weekly seasonality changepoint`` (around Nov 2013) to capture shift in weekly seasonality shape\n\nIn the \"Silverkite\" forecast model, the above components could be specified via\n\n.. code-block:: none\n\n   - weekly seasonality: seasonality->weekly_seasonality, custom->extra_pred_cols->\"str_dow\"\n   - yearly seasonality: seasonality->yearly_seasonality, custom->extra_pred_cols->\"woy\" or \"woy_dow\"\n   - is_football_season: regressors->regressor_cols->\"is_football_season\" (define custom regressor)\n   - start/end of season: holidays->daily_event_df_dict->\"season_start\",\"season_end\" (define custom event)\n   - interactions: custom->feature_sets_enabled, custom->extra_pred_cols (define interactions yourself)\n   - changepoint: changepoints->seasonality_changepoints_dict\n\nSee :doc:`/pages/model_components/0100_introduction` for details.\n\n## Daily seasonality\nThe Peyton Manning dataset cannot have daily seasonality\n(variation within one day), because there is only one observation\neach day.\n\nFor completeness, we show how to test for daily seasonality\nusing an hourly bike sharing dataset.\n\nFirst, prepare and load your dataset.\n\n"
      ]
    },
    {
      "cell_type": "code",
      "execution_count": null,
      "metadata": {
        "collapsed": false
      },
      "outputs": [],
      "source": [
        "df = dl.load_bikesharing()\nbikesharing_ts = UnivariateTimeSeries()\nbikesharing_ts.load_data(\n    df=df,\n    time_col=\"ts\",\n    value_col=\"count\",\n    freq=\"H\",\n    regressor_cols=[\"tmax\", \"tmin\", \"pn\"]\n)\nplotly.io.show(bikesharing_ts.plot())"
      ]
    },
    {
      "cell_type": "markdown",
      "metadata": {},
      "source": [
        "We proceed with further exploration for now. Group by\n``\"hour\"`` to see the daily seasonality effect.\nThere is more bikesharing activity during the day than at night.\n\n"
      ]
    },
    {
      "cell_type": "code",
      "execution_count": null,
      "metadata": {
        "collapsed": false
      },
      "outputs": [],
      "source": [
        "fig = bikesharing_ts.plot_quantiles_and_overlays(\n    groupby_time_feature=\"hour\",\n    show_mean=True,\n    show_quantiles=True,\n    show_overlays=25,\n    overlay_label_sliding_window_size=24,  # each overlay contains 24 observations (1 day)\n    center_values=False,\n    xlabel=\"hour of day\",\n    ylabel=\"number of shared bikes\",\n    title=\"bike sharing activity by hour of day\"\n)\nplotly.io.show(fig)"
      ]
    },
    {
      "cell_type": "markdown",
      "metadata": {},
      "source": [
        "Check for interactions with day of week as follows. In this plot, weekdays\nfollow a similar pattern, but Saturday and Sunday are different.\n\n"
      ]
    },
    {
      "cell_type": "code",
      "execution_count": null,
      "metadata": {
        "collapsed": false
      },
      "outputs": [],
      "source": [
        "fig = bikesharing_ts.plot_quantiles_and_overlays(\n    groupby_time_feature=\"hour\",\n    show_mean=True,\n    show_quantiles=False,\n    show_overlays=True,\n    center_values=True,\n    overlay_label_time_feature=\"str_dow\",  # splits overlays by day of week\n    overlay_style={\"line\": {\"width\": 1}, \"opacity\": 0.5},\n    xlabel=\"hour of day\",\n    ylabel=\"number of shared bikes\",\n    title=\"bike sharing daily seasonality, by day of week\"\n)\nplotly.io.show(fig)"
      ]
    },
    {
      "cell_type": "markdown",
      "metadata": {},
      "source": [
        "As an aside, for multivariate datasets, you may set\n``value_col`` to check the seasonality pattern\nfor a different metric in the dataset.\nThe bike sharing dataset is a multivariate dataset\nwith columns \"tmax\", \"tmin\", \"pn\" for max/min daily\ntemperature and precipitation. Let's plot max daily\ntemperature by week of year.\n\n"
      ]
    },
    {
      "cell_type": "code",
      "execution_count": null,
      "metadata": {
        "collapsed": false
      },
      "outputs": [],
      "source": [
        "print(f\"Columns: {bikesharing_ts.df.columns}\")\nfig = bikesharing_ts.plot_quantiles_and_overlays(\n    value_col=\"tmax\",\n    groupby_time_feature=\"woy\",\n    show_mean=True,\n    show_quantiles=True,\n    show_overlays=False,\n    center_values=False,\n    xlabel=\"week of year\",\n    title=\"max daily temperature by week of year\"\n)\nplotly.io.show(fig)"
      ]
    }
  ],
  "metadata": {
    "kernelspec": {
      "display_name": "Python 3",
      "language": "python",
      "name": "python3"
    },
    "language_info": {
      "codemirror_mode": {
        "name": "ipython",
        "version": 3
      },
      "file_extension": ".py",
      "mimetype": "text/x-python",
      "name": "python",
      "nbconvert_exporter": "python",
      "pygments_lexer": "ipython3",
      "version": "3.10.2"
    }
  },
  "nbformat": 4,
  "nbformat_minor": 0
}