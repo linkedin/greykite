{
  "cells": [
    {
      "cell_type": "code",
      "execution_count": null,
      "metadata": {
        "collapsed": false
      },
      "outputs": [],
      "source": [
        "%matplotlib inline"
      ]
    },
    {
      "cell_type": "markdown",
      "metadata": {},
      "source": [
        "\n# Simple Anomaly Detection\n\nYou can create and evaluate an anomaly detection model with just a few lines of code.\n\nProvide your timeseries as a pandas dataframe with timestamp and value.\nOptionally, you can also provide the anomaly labels as a column in the dataframe.\n\nFor example, to detect anomalies in daily sessions data, your dataframe could look like this:\n\n.. code-block:: python\n\n    import pandas as pd\n    df = pd.DataFrame({\n        \"date\": [\"2020-01-08-00\", \"2020-01-09-00\", \"2020-01-10-00\"],\n        \"sessions\": [10231.0, 12309.0, 12104.0],\n        \"is_anomaly\": [False, True, False]\n    })\n\nThe time column can be any format recognized by `pandas.to_datetime`.\n\nIn this example, we'll load a dataset representing ``log(daily page views)``\non the Wikipedia page for Peyton Manning.\nIt contains values from 2007-12-10 to 2016-01-20. More dataset info\n`here <https://facebook.github.io/prophet/docs/quick_start.html>`_.\n"
      ]
    },
    {
      "cell_type": "code",
      "execution_count": null,
      "metadata": {
        "collapsed": false
      },
      "outputs": [],
      "source": [
        "import warnings\n\nimport plotly\nfrom greykite.common.data_loader import DataLoader\nfrom greykite.detection.detector.config import ADConfig\nfrom greykite.detection.detector.data import DetectorData\nfrom greykite.detection.detector.greykite import GreykiteDetector\nfrom greykite.framework.templates.autogen.forecast_config import ForecastConfig\nfrom greykite.framework.templates.autogen.forecast_config import MetadataParam\nfrom greykite.framework.templates.model_templates import ModelTemplateEnum\n\nwarnings.filterwarnings(\"ignore\")\n\n# Loads dataset into pandas DataFrame\ndl = DataLoader()\ndf = dl.load_peyton_manning()\n\n# specify dataset information\nmetadata = MetadataParam(\n    time_col=\"ts\",  # name of the time column (\"date\" in example above)\n    value_col=\"y\",  # name of the value column (\"sessions\" in example above)\n    freq=\"D\"  # \"H\" for hourly, \"D\" for daily, \"W\" for weekly, etc.\n    # Any format accepted by `pandas.date_range`\n)"
      ]
    },
    {
      "cell_type": "markdown",
      "metadata": {},
      "source": [
        "## Create an Anomaly Detection Model\nSimilar to forecasting, you need to provide a forecast config and an\nanomaly detection config. You can choose any of the available forecast model\ntemplates (see :doc:`/pages/stepbystep/0100_choose_model`).\n\n"
      ]
    },
    {
      "cell_type": "code",
      "execution_count": null,
      "metadata": {
        "collapsed": false
      },
      "outputs": [],
      "source": [
        "# In this example, we choose the \"AUTO\" model template for the forecast config,\n# and the default anomaly detection config.\n# The Silverkite \"AUTO\" model template chooses the parameter configuration\n# given the input data frequency, forecast horizon and evaluation configs.\n\nanomaly_detector = GreykiteDetector()  # Creates an instance of the Greykite anomaly detector\n\nforecast_config = ForecastConfig(\n    model_template=ModelTemplateEnum.AUTO.name,\n    forecast_horizon=7,  # forecasts 7 steps ahead\n    coverage=None,       # Confidence Interval will be tuned by the AD model\n    metadata_param=metadata)\n\nad_config = ADConfig()  # Default anomaly detection config\n\ndetector = GreykiteDetector(\n    forecast_config=forecast_config,\n    ad_config=ad_config,\n    reward=None)"
      ]
    },
    {
      "cell_type": "markdown",
      "metadata": {},
      "source": [
        "## Train the Anomaly Detection Model\nYou can train the anomaly detection model by calling the ``fit`` method.\nThis method takes a ``DetectorData`` object as input.\nThe ``DetectorData`` object consists the time series information as a pandas dataframe.\nOptionally, you can also provide the anomaly labels as a column in the dataframe.\nThe anomaly labels can also be provided as a list of boolean values.\nThe anomaly labels are used to evaluate the model performance.\n\n"
      ]
    },
    {
      "cell_type": "code",
      "execution_count": null,
      "metadata": {
        "collapsed": false
      },
      "outputs": [],
      "source": [
        "train_size = int(2700)\ndf_train = df[:train_size].reset_index(drop=True)\ntrain_data = DetectorData(df=df_train)\ndetector.fit(data=train_data)"
      ]
    },
    {
      "cell_type": "markdown",
      "metadata": {},
      "source": [
        "## Predict with the Anomaly Detection Model\nYou can predict anomalies by calling the ``predict`` method.\n\n"
      ]
    },
    {
      "cell_type": "code",
      "execution_count": null,
      "metadata": {
        "collapsed": false
      },
      "outputs": [],
      "source": [
        "test_data = DetectorData(df=df)\ntest_data = detector.predict(test_data)"
      ]
    },
    {
      "cell_type": "markdown",
      "metadata": {},
      "source": [
        "## Evaluate the Anomaly Detection Model\nThe output of the anomaly detection model are stored as attributes\nof the ``GreykiteDetector`` object.\n(The interactive plots are generated by ``plotly``: **click to zoom!**)\n\n"
      ]
    },
    {
      "cell_type": "markdown",
      "metadata": {},
      "source": [
        "### Training\nThe ``fitted_df`` attribute contains the result on the training data.\nYou can plot the result by calling the ``plot`` method with ``phase=\"train\"``.\n\n"
      ]
    },
    {
      "cell_type": "code",
      "execution_count": null,
      "metadata": {
        "collapsed": false
      },
      "outputs": [],
      "source": [
        "print(detector.fitted_df)\n\nfig = detector.plot(\n    phase=\"train\",\n    title=\"Greykite Detector Peyton Manning - fit phase\")\nplotly.io.show(fig)"
      ]
    },
    {
      "cell_type": "markdown",
      "metadata": {},
      "source": [
        "### Prediction\nThe ``pred_df`` attribute contains the predicted result.\nYou can plot the result by calling the ``plot`` method with ``phase=\"predict\"``.\n\n"
      ]
    },
    {
      "cell_type": "code",
      "execution_count": null,
      "metadata": {
        "collapsed": false
      },
      "outputs": [],
      "source": [
        "print(detector.pred_df)\n\nfig = detector.plot(\n    phase=\"predict\",\n    title=\"Greykite Detector Peyton Manning - predict phase\")\nplotly.io.show(fig)"
      ]
    },
    {
      "cell_type": "markdown",
      "metadata": {},
      "source": [
        "### Model Summary\nModel summary allows inspection of individual model terms.\nCheck parameter estimates and their significance for insights\non how the model works and what can be further improved.\nYou can call the ``summary`` method to see the model summary.\n\n"
      ]
    },
    {
      "cell_type": "code",
      "execution_count": null,
      "metadata": {
        "collapsed": false
      },
      "outputs": [],
      "source": [
        "summary = detector.summary()\nprint(summary)"
      ]
    },
    {
      "cell_type": "markdown",
      "metadata": {},
      "source": [
        "## What's next?\nIf you're satisfied with the forecast performance, you're done!\n\nFor a complete example of how to tune this forecast, see\n:doc:`/gallery/tutorials/0400_anomaly_detection_tutorial`.\n\n"
      ]
    }
  ],
  "metadata": {
    "kernelspec": {
      "display_name": "Python 3",
      "language": "python",
      "name": "python3"
    },
    "language_info": {
      "codemirror_mode": {
        "name": "ipython",
        "version": 3
      },
      "file_extension": ".py",
      "mimetype": "text/x-python",
      "name": "python",
      "nbconvert_exporter": "python",
      "pygments_lexer": "ipython3",
      "version": "3.10.2"
    }
  },
  "nbformat": 4,
  "nbformat_minor": 0
}